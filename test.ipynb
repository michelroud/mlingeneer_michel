{
 "cells": [
  {
   "cell_type": "code",
   "execution_count": 2,
   "metadata": {},
   "outputs": [
    {
     "name": "stderr",
     "output_type": "stream",
     "text": [
      "2024/10/16 18:02:02 WARNING mlflow.models.model: Model logged without a signature and input example. Please set `input_example` parameter when logging the model to auto infer the model signature.\n",
      "2024/10/16 18:02:03 INFO mlflow.tracking._tracking_service.client: 🏃 View run dapper-shrimp-273 at: http://localhost:5000/#/experiments/2/runs/8c8ef8aced0741ceaaa0b1a2cce9f9c9.\n",
      "2024/10/16 18:02:03 INFO mlflow.tracking._tracking_service.client: 🧪 View experiment at: http://localhost:5000/#/experiments/2.\n"
     ]
    },
    {
     "name": "stdout",
     "output_type": "stream",
     "text": [
      "Run ID: 8c8ef8aced0741ceaaa0b1a2cce9f9c9\n"
     ]
    }
   ],
   "source": [
    "import mlflow\n",
    "\n",
    "from sklearn.model_selection import train_test_split\n",
    "from sklearn.datasets import load_diabetes\n",
    "from sklearn.ensemble import RandomForestRegressor\n",
    "\n",
    "mlflow.set_tracking_uri(\"http://localhost:5000\")\n",
    "mlflow.set_experiment(f\"/user/test\")\n",
    "\n",
    "\n",
    "with mlflow.start_run() as run:\n",
    "    # Load the diabetes dataset.\n",
    "    db = load_diabetes()\n",
    "    X_train, X_test, y_train, y_test = train_test_split(db.data, db.target)\n",
    "\n",
    "    # Create and train models.\n",
    "    rf = RandomForestRegressor(n_estimators=100, max_depth=6, max_features=3)\n",
    "    rf.fit(X_train, y_train)\n",
    "\n",
    "    # Use the model to make predictions on the test dataset.\n",
    "    predictions = rf.predict(X_test)\n",
    "\n",
    "    mlflow.sklearn.log_model(rf, \"model\")\n",
    "\n",
    "    print(\"Run ID: {}\".format(run.info.run_id))"
   ]
  },
  {
   "cell_type": "code",
   "execution_count": 1,
   "metadata": {},
   "outputs": [],
   "source": [
    "import pandas as pd\n",
    "import numpy as np\n",
    "np.float_ = np.float64\n",
    "from prophet import Prophet\n",
    "from datetime import timedelta, datetime\n",
    "import mlflow\n",
    "from sklearn.metrics import mean_absolute_error,mean_squared_error\n",
    "from mlflow.models import infer_signature\n",
    "from pathlib import Path\n",
    "from autots import AutoTS\n",
    "import pickle"
   ]
  },
  {
   "cell_type": "code",
   "execution_count": 2,
   "metadata": {},
   "outputs": [],
   "source": [
    "def transformation():\n",
    "    df_con=pd.DataFrame()\n",
    "    mil=[]\n",
    "    LI=pd.ExcelFile(\"Cours-de-change-2018_2024.xlsx\")\n",
    "    for g in LI.sheet_names:    \n",
    "        df=pd.read_excel(\"Cours-de-change-2018_2024.xlsx\",sheet_name=g)\n",
    "        df=df.dropna(axis=0,how='all')\n",
    "        som = {}  # Initialisez le dictionnaire som sans aucune clé initialement\n",
    "        cle = [\"DEVISES\", \"MIN EUR\", \"CMP EUR\", \"MAX EUR\", \"MIN USD\", \"CMP USD\", \"MAX USD\"]\n",
    "\n",
    "        # Initialisez chaque clé dans cle avec une liste vide dans som\n",
    "        for c in cle:\n",
    "            som[c] = []\n",
    "\n",
    "        for inde, val in df.iterrows():\n",
    "            bor = None\n",
    "            for col in df.columns:\n",
    "                if val[col] in cle:  # Trouver la colonne contenant une valeur dans cle\n",
    "                    bor = df.columns.get_loc(col) + 1  # Obtenir l'index de la colonne suivante\n",
    "                    break\n",
    "            \n",
    "            if bor is not None:  # Si une valeur dans cle a été trouvée\n",
    "                som[val[col]].extend(val.iloc[bor:].tolist())  # Ajoutez les valeurs des colonnes suivantes à la liste existante\n",
    "      \n",
    "        dt=pd.DataFrame(som)\n",
    "        mil.append(dt)  \n",
    "        dt=pd.concat(mil,axis=0)\n",
    "    dt=dt[dt[\"DEVISES\"].notna()]\n",
    "    dt[\"DEVISES\"]=pd.to_datetime(dt[\"DEVISES\"])\n",
    "    return dt"
   ]
  },
  {
   "cell_type": "code",
   "execution_count": 3,
   "metadata": {},
   "outputs": [],
   "source": [
    "dt=transformation()\n",
    "#df[\"Period\"]=df[\"DEVISES\"]"
   ]
  },
  {
   "cell_type": "code",
   "execution_count": 107,
   "metadata": {},
   "outputs": [],
   "source": [
    "df =df.set_index(\"Period\")"
   ]
  },
  {
   "cell_type": "code",
   "execution_count": 108,
   "metadata": {},
   "outputs": [],
   "source": [
    "df=df[\"MIN EUR\"]"
   ]
  },
  {
   "cell_type": "code",
   "execution_count": 110,
   "metadata": {},
   "outputs": [],
   "source": [
    "df.index = df.index.normalize()\n"
   ]
  },
  {
   "cell_type": "code",
   "execution_count": 112,
   "metadata": {},
   "outputs": [
    {
     "name": "stdout",
     "output_type": "stream",
     "text": [
      "<class 'pandas.core.series.Series'>\n",
      "DatetimeIndex: 1635 entries, 2024-01-02 to 2018-12-28\n",
      "Series name: MIN EUR\n",
      "Non-Null Count  Dtype  \n",
      "--------------  -----  \n",
      "1635 non-null   float64\n",
      "dtypes: float64(1)\n",
      "memory usage: 25.5 KB\n"
     ]
    }
   ],
   "source": [
    "df.info()"
   ]
  },
  {
   "cell_type": "code",
   "execution_count": 113,
   "metadata": {},
   "outputs": [],
   "source": [
    "import pandas as pd\n",
    "from sktime.forecasting.fbprophet import Prophet"
   ]
  },
  {
   "cell_type": "code",
   "execution_count": 114,
   "metadata": {},
   "outputs": [
    {
     "name": "stderr",
     "output_type": "stream",
     "text": [
      "2024/10/31 10:39:30 INFO mlflow.tracking._tracking_service.client: 🏃 View run secretive-grouse-110 at: http://localhost:5000/#/experiments/3/runs/ce254e9dde934219a26dea28405600f3.\n",
      "2024/10/31 10:39:30 INFO mlflow.tracking._tracking_service.client: 🧪 View experiment at: http://localhost:5000/#/experiments/3.\n"
     ]
    },
    {
     "ename": "TypeError",
     "evalue": "y must be in an sktime compatible format, of scitype Series, Panel, Hierarchical, for instance a pandas.DataFrame with sktime compatible time indices, or with MultiIndex and last(-1) level an sktime compatible time index. See the forecasting tutorial examples/01_forecasting.ipynb, or the data format tutorial examples/AA_datatypes_and_datasets.ipynb,If you think y is already in an sktime supported input format, run sktime.datatypes.check_raise(y, mtype) to diagnose the error, where mtype is the string of the type specification you want for y. Possible mtype specification strings are as follows: \"For Series scitype: ['pd.Series', 'pd.DataFrame', 'np.ndarray']. , \"For Panel scitype: ['pd-multiindex', 'nested_univ', 'numpy3D', 'df-list', 'pd-long']. , \"For Hierarchical scitype: ['pd_multiindex_hier']. ",
     "output_type": "error",
     "traceback": [
      "\u001b[0;31m---------------------------------------------------------------------------\u001b[0m",
      "\u001b[0;31mTypeError\u001b[0m                                 Traceback (most recent call last)",
      "Cell \u001b[0;32mIn[114], line 8\u001b[0m\n\u001b[1;32m      5\u001b[0m \u001b[38;5;28;01mwith\u001b[39;00m mlflow\u001b[38;5;241m.\u001b[39mstart_run() \u001b[38;5;28;01mas\u001b[39;00m run:\n\u001b[1;32m      6\u001b[0m     forecaster \u001b[38;5;241m=\u001b[39m Prophet( )\n\u001b[0;32m----> 8\u001b[0m     \u001b[43mforecaster\u001b[49m\u001b[38;5;241;43m.\u001b[39;49m\u001b[43mfit\u001b[49m\u001b[43m(\u001b[49m\u001b[43mdf\u001b[49m\u001b[43m)\u001b[49m\n\u001b[1;32m     10\u001b[0m     \u001b[38;5;66;03m# artifact_path = \"model\"  \u001b[39;00m\n\u001b[1;32m     11\u001b[0m \n\u001b[1;32m     12\u001b[0m     \u001b[38;5;66;03m# model_info = mlflow_sktime.log_model(\u001b[39;00m\n\u001b[0;32m   (...)\u001b[0m\n\u001b[1;32m     15\u001b[0m \n\u001b[1;32m     16\u001b[0m     \u001b[38;5;66;03m# artifact_path=artifact_path)  \u001b[39;00m\n",
      "File \u001b[0;32m~/code_python/mts/mlflow-minio-postgres/venv/lib/python3.11/site-packages/sktime/forecasting/base/_base.py:365\u001b[0m, in \u001b[0;36mBaseForecaster.fit\u001b[0;34m(self, y, X, fh)\u001b[0m\n\u001b[1;32m    362\u001b[0m \u001b[38;5;28mself\u001b[39m\u001b[38;5;241m.\u001b[39mreset()\n\u001b[1;32m    364\u001b[0m \u001b[38;5;66;03m# check and convert X/y\u001b[39;00m\n\u001b[0;32m--> 365\u001b[0m X_inner, y_inner \u001b[38;5;241m=\u001b[39m \u001b[38;5;28;43mself\u001b[39;49m\u001b[38;5;241;43m.\u001b[39;49m\u001b[43m_check_X_y\u001b[49m\u001b[43m(\u001b[49m\u001b[43mX\u001b[49m\u001b[38;5;241;43m=\u001b[39;49m\u001b[43mX\u001b[49m\u001b[43m,\u001b[49m\u001b[43m \u001b[49m\u001b[43my\u001b[49m\u001b[38;5;241;43m=\u001b[39;49m\u001b[43my\u001b[49m\u001b[43m)\u001b[49m\n\u001b[1;32m    367\u001b[0m \u001b[38;5;66;03m# set internal X/y to the new X/y\u001b[39;00m\n\u001b[1;32m    368\u001b[0m \u001b[38;5;66;03m# this also updates cutoff from y\u001b[39;00m\n\u001b[1;32m    369\u001b[0m \u001b[38;5;28mself\u001b[39m\u001b[38;5;241m.\u001b[39m_update_y_X(y_inner, X_inner)\n",
      "File \u001b[0;32m~/code_python/mts/mlflow-minio-postgres/venv/lib/python3.11/site-packages/sktime/forecasting/base/_base.py:1407\u001b[0m, in \u001b[0;36mBaseForecaster._check_X_y\u001b[0;34m(self, X, y)\u001b[0m\n\u001b[1;32m   1394\u001b[0m msg \u001b[38;5;241m=\u001b[39m (\n\u001b[1;32m   1395\u001b[0m     \u001b[38;5;124m\"\u001b[39m\u001b[38;5;124my must be in an sktime compatible format, \u001b[39m\u001b[38;5;124m\"\u001b[39m\n\u001b[1;32m   1396\u001b[0m     \u001b[38;5;124mf\u001b[39m\u001b[38;5;124m\"\u001b[39m\u001b[38;5;124mof scitype \u001b[39m\u001b[38;5;132;01m{\u001b[39;00m\u001b[38;5;124m'\u001b[39m\u001b[38;5;124m, \u001b[39m\u001b[38;5;124m'\u001b[39m\u001b[38;5;241m.\u001b[39mjoin(ALLOWED_SCITYPES)\u001b[38;5;132;01m}\u001b[39;00m\u001b[38;5;124m, \u001b[39m\u001b[38;5;124m\"\u001b[39m\n\u001b[0;32m   (...)\u001b[0m\n\u001b[1;32m   1404\u001b[0m     \u001b[38;5;124m\"\u001b[39m\u001b[38;5;124mPossible mtype specification strings are as follows: \u001b[39m\u001b[38;5;124m\"\u001b[39m\n\u001b[1;32m   1405\u001b[0m )\n\u001b[1;32m   1406\u001b[0m \u001b[38;5;28;01mif\u001b[39;00m \u001b[38;5;129;01mnot\u001b[39;00m y_valid:\n\u001b[0;32m-> 1407\u001b[0m     \u001b[38;5;28;01mraise\u001b[39;00m \u001b[38;5;167;01mTypeError\u001b[39;00m(msg \u001b[38;5;241m+\u001b[39m \u001b[38;5;124m\"\u001b[39m\u001b[38;5;124m, \u001b[39m\u001b[38;5;124m\"\u001b[39m\u001b[38;5;241m.\u001b[39mjoin(mtypes_messages))\n\u001b[1;32m   1409\u001b[0m y_scitype \u001b[38;5;241m=\u001b[39m y_metadata[\u001b[38;5;124m\"\u001b[39m\u001b[38;5;124mscitype\u001b[39m\u001b[38;5;124m\"\u001b[39m]\n\u001b[1;32m   1410\u001b[0m \u001b[38;5;28mself\u001b[39m\u001b[38;5;241m.\u001b[39m_y_metadata \u001b[38;5;241m=\u001b[39m y_metadata\n",
      "\u001b[0;31mTypeError\u001b[0m: y must be in an sktime compatible format, of scitype Series, Panel, Hierarchical, for instance a pandas.DataFrame with sktime compatible time indices, or with MultiIndex and last(-1) level an sktime compatible time index. See the forecasting tutorial examples/01_forecasting.ipynb, or the data format tutorial examples/AA_datatypes_and_datasets.ipynb,If you think y is already in an sktime supported input format, run sktime.datatypes.check_raise(y, mtype) to diagnose the error, where mtype is the string of the type specification you want for y. Possible mtype specification strings are as follows: \"For Series scitype: ['pd.Series', 'pd.DataFrame', 'np.ndarray']. , \"For Panel scitype: ['pd-multiindex', 'nested_univ', 'numpy3D', 'df-list', 'pd-long']. , \"For Hierarchical scitype: ['pd_multiindex_hier']. "
     ]
    }
   ],
   "source": [
    "mlflow.set_tracking_uri(\"http://localhost:5000\")\n",
    "mlflow.set_experiment(f\"/user/test\")\n",
    "from sktime.utils import mlflow_sktime \n",
    "\n",
    "with mlflow.start_run() as run:\n",
    "    forecaster = Prophet( )\n",
    "    \n",
    "    forecaster.fit(df)\n",
    "    \n",
    "    # artifact_path = \"model\"  \n",
    "\n",
    "    # model_info = mlflow_sktime.log_model(\n",
    "\n",
    "    # sktime_model=forecaster,\n",
    "\n",
    "    # artifact_path=artifact_path)  \n",
    "\n"
   ]
  },
  {
   "cell_type": "code",
   "execution_count": 22,
   "metadata": {},
   "outputs": [],
   "source": [
    "def model_pickle(df):\n",
    "    mlflow.set_tracking_uri(\"http://localhost:5000\")\n",
    "    mlflow.set_experiment(f\"/test\")\n",
    "    df=df[[\"DEVISES\",\"CMP EUR\"]]\n",
    "    df=df.rename(columns={\"CMP EUR\":\"y\",\"DEVISES\":\"ds\"})\n",
    "    x=int(len(df.index)*0.8)\n",
    "    x_train=df.iloc[:x]\n",
    "    y_test=df.iloc[x:]\n",
    "    model=Prophet()\n",
    "    model.fit(x_train)\n",
    "    app=model.predict(y_test)\n",
    "    #y_pre=app[\"yhat\"]\n",
    "    filename = \"propht_model.pkl\"\n",
    "    pickle.dump(model, open(filename, \"wb\"))\n",
    "    \n",
    "    with mlflow.start_run():\n",
    "        \n",
    "        mlflow.log_artifacts(\"propht_model.pkl\",artifact_path='./michel')\n",
    "        mlflow.end_run()"
   ]
  },
  {
   "cell_type": "code",
   "execution_count": 82,
   "metadata": {},
   "outputs": [],
   "source": [
    "from sktime.datasets import load_airline\n",
    "from sktime.forecasting.trend import ProphetPiecewiseLinearTrendForecaster\n",
    "from sktime.forecasting.base import ForecastingHorizon\n",
    "from sktime.split import temporal_train_test_split\n",
    " "
   ]
  },
  {
   "cell_type": "code",
   "execution_count": 84,
   "metadata": {},
   "outputs": [
    {
     "data": {
      "text/plain": [
       "Period\n",
       "1949-01    112.0\n",
       "1949-02    118.0\n",
       "1949-03    132.0\n",
       "1949-04    129.0\n",
       "1949-05    121.0\n",
       "           ...  \n",
       "1960-08    606.0\n",
       "1960-09    508.0\n",
       "1960-10    461.0\n",
       "1960-11    390.0\n",
       "1960-12    432.0\n",
       "Freq: M, Name: Number of airline passengers, Length: 144, dtype: float64"
      ]
     },
     "execution_count": 84,
     "metadata": {},
     "output_type": "execute_result"
    }
   ],
   "source": [
    "y =load_airline()\n",
    "y"
   ]
  },
  {
   "cell_type": "code",
   "execution_count": 81,
   "metadata": {},
   "outputs": [
    {
     "data": {
      "text/plain": [
       "Period\n",
       "1949-01-31    112.0\n",
       "1949-02-28    118.0\n",
       "1949-03-31    132.0\n",
       "1949-04-30    129.0\n",
       "1949-05-31    121.0\n",
       "              ...  \n",
       "1960-08-31    606.0\n",
       "1960-09-30    508.0\n",
       "1960-10-31    461.0\n",
       "1960-11-30    390.0\n",
       "1960-12-31    432.0\n",
       "Freq: M, Name: Number of airline passengers, Length: 144, dtype: float64"
      ]
     },
     "execution_count": 81,
     "metadata": {},
     "output_type": "execute_result"
    }
   ],
   "source": [
    "y =load_airline().to_timestamp(freq='M')\n",
    "y_train, y_test = temporal_train_test_split(y)\n",
    "fh = ForecastingHorizon(y.index, is_relative=False)\n",
    "forecaster =  ProphetPiecewiseLinearTrendForecaster() \n",
    "forecaster.fit(y_train) \n",
    "y_pred = forecaster.predict(fh)"
   ]
  },
  {
   "cell_type": "code",
   "execution_count": 23,
   "metadata": {},
   "outputs": [
    {
     "name": "stderr",
     "output_type": "stream",
     "text": [
      "19:59:39 - cmdstanpy - INFO - Chain [1] start processing\n",
      "19:59:40 - cmdstanpy - INFO - Chain [1] done processing\n",
      "2024/10/31 19:59:40 INFO mlflow.tracking._tracking_service.client: 🏃 View run gifted-squirrel-648 at: http://localhost:5000/#/experiments/8/runs/b08bff40b2a44d78b2659dde72a1ae20.\n",
      "2024/10/31 19:59:40 INFO mlflow.tracking._tracking_service.client: 🧪 View experiment at: http://localhost:5000/#/experiments/8.\n"
     ]
    }
   ],
   "source": [
    "y=model_pickle(dt)"
   ]
  },
  {
   "cell_type": "code",
   "execution_count": 18,
   "metadata": {},
   "outputs": [],
   "source": [
    "def modelisationss(filename, df):\n",
    "    mlflow.set_tracking_uri(\"http://localhost:5000\")\n",
    "    mlflow.set_experiment(f\"/user/test\")\n",
    "\n",
    "    # Charger le modèle depuis le fichier\n",
    "    with open(filename, 'rb') as f:\n",
    "        loaded_model = pickle.load(f)\n",
    "\n",
    "    with mlflow.start_run():\n",
    "        # Créer une signature basée sur les données d'entrée et de sortie\n",
    "        x_train = df.iloc[:int(len(df.index)*0.8)]\n",
    "        y_test = df.iloc[int(len(df.index)*0.8):]\n",
    "        \n",
    "        signature = infer_signature(x_train)\n",
    "        reg_model_name = \"prophet\"\n",
    "\n",
    "        print(\"--\")\n",
    "        # Sauvegarder le modèle avec MLflow\n",
    "        mlflow.log_artifact_local(filename, artifact_path=\"models/prophets\")\n",
    "        # mlflow.pyfunc.log_model(\n",
    "        #     python_model=loaded_model,\n",
    "        #     artifact_path=\"prophet\",\n",
    "        #     signature=signature,\n",
    "        #     registered_model_name=reg_model_name\n",
    "        # )\n",
    "    \n",
    "    return signature\n"
   ]
  },
  {
   "cell_type": "code",
   "execution_count": 19,
   "metadata": {},
   "outputs": [
    {
     "name": "stderr",
     "output_type": "stream",
     "text": [
      "2024/10/30 16:42:15 INFO mlflow.tracking._tracking_service.client: 🏃 View run legendary-doe-402 at: http://localhost:5000/#/experiments/3/runs/640cc27638fd4105856d59e550c9ede7.\n",
      "2024/10/30 16:42:15 INFO mlflow.tracking._tracking_service.client: 🧪 View experiment at: http://localhost:5000/#/experiments/3.\n"
     ]
    },
    {
     "name": "stdout",
     "output_type": "stream",
     "text": [
      "--\n"
     ]
    },
    {
     "ename": "AttributeError",
     "evalue": "module 'mlflow' has no attribute 'log_artifact_local'",
     "output_type": "error",
     "traceback": [
      "\u001b[0;31m---------------------------------------------------------------------------\u001b[0m",
      "\u001b[0;31mAttributeError\u001b[0m                            Traceback (most recent call last)",
      "Cell \u001b[0;32mIn[19], line 1\u001b[0m\n\u001b[0;32m----> 1\u001b[0m z\u001b[38;5;241m=\u001b[39m\u001b[43mmodelisationss\u001b[49m\u001b[43m(\u001b[49m\u001b[43mx\u001b[49m\u001b[43m,\u001b[49m\u001b[43my\u001b[49m\u001b[43m)\u001b[49m\n",
      "Cell \u001b[0;32mIn[18], line 19\u001b[0m, in \u001b[0;36mmodelisationss\u001b[0;34m(filename, df)\u001b[0m\n\u001b[1;32m     17\u001b[0m     \u001b[38;5;28mprint\u001b[39m(\u001b[38;5;124m\"\u001b[39m\u001b[38;5;124m--\u001b[39m\u001b[38;5;124m\"\u001b[39m)\n\u001b[1;32m     18\u001b[0m     \u001b[38;5;66;03m# Sauvegarder le modèle avec MLflow\u001b[39;00m\n\u001b[0;32m---> 19\u001b[0m     \u001b[43mmlflow\u001b[49m\u001b[38;5;241;43m.\u001b[39;49m\u001b[43mlog_artifact_local\u001b[49m(filename, artifact_path\u001b[38;5;241m=\u001b[39m\u001b[38;5;124m\"\u001b[39m\u001b[38;5;124mmodels/prophets\u001b[39m\u001b[38;5;124m\"\u001b[39m)\n\u001b[1;32m     20\u001b[0m     \u001b[38;5;66;03m# mlflow.pyfunc.log_model(\u001b[39;00m\n\u001b[1;32m     21\u001b[0m     \u001b[38;5;66;03m#     python_model=loaded_model,\u001b[39;00m\n\u001b[1;32m     22\u001b[0m     \u001b[38;5;66;03m#     artifact_path=\"prophet\",\u001b[39;00m\n\u001b[1;32m     23\u001b[0m     \u001b[38;5;66;03m#     signature=signature,\u001b[39;00m\n\u001b[1;32m     24\u001b[0m     \u001b[38;5;66;03m#     registered_model_name=reg_model_name\u001b[39;00m\n\u001b[1;32m     25\u001b[0m     \u001b[38;5;66;03m# )\u001b[39;00m\n\u001b[1;32m     27\u001b[0m \u001b[38;5;28;01mreturn\u001b[39;00m signature\n",
      "\u001b[0;31mAttributeError\u001b[0m: module 'mlflow' has no attribute 'log_artifact_local'"
     ]
    }
   ],
   "source": [
    "z=modelisationss(x,y)"
   ]
  },
  {
   "cell_type": "code",
   "execution_count": 35,
   "metadata": {},
   "outputs": [],
   "source": [
    "def modelisationss(filename,df):\n",
    "\n",
    "    mlflow.set_tracking_uri(\"http://localhost:5000\")\n",
    "    mlflow.set_experiment(f\"/user/test\")\n",
    "    loaded_model = pickle.load(open(filename, \"rb\"))\n",
    "    with mlflow.start_run():\n",
    "    # create a signature for the model based on the input and output data\n",
    "        x=int(len(df.index)*0.8)\n",
    "        x_train=df.iloc[:x]\n",
    "        y_test=df.iloc[x:]\n",
    "\n",
    "        signature = infer_signature(x_train)\n",
    "        reg_model_name = \"SklearnLinearRegression\"\n",
    "        print(\"--\")\n",
    "        mlflow.pyfunc.log_model(path=loaded_model\n",
    "    )\n",
    "    return signature\n"
   ]
  },
  {
   "cell_type": "code",
   "execution_count": 36,
   "metadata": {},
   "outputs": [
    {
     "name": "stderr",
     "output_type": "stream",
     "text": [
      "2024/10/28 22:08:21 INFO mlflow.tracking._tracking_service.client: 🏃 View run sedate-vole-193 at: http://localhost:5000/#/experiments/3/runs/9c4ac0753fd14604bd05918ad1d38f20.\n",
      "2024/10/28 22:08:21 INFO mlflow.tracking._tracking_service.client: 🧪 View experiment at: http://localhost:5000/#/experiments/3.\n"
     ]
    },
    {
     "name": "stdout",
     "output_type": "stream",
     "text": [
      "--\n"
     ]
    },
    {
     "ename": "TypeError",
     "evalue": "log_model() got an unexpected keyword argument 'path'",
     "output_type": "error",
     "traceback": [
      "\u001b[0;31m---------------------------------------------------------------------------\u001b[0m",
      "\u001b[0;31mTypeError\u001b[0m                                 Traceback (most recent call last)",
      "Cell \u001b[0;32mIn[36], line 1\u001b[0m\n\u001b[0;32m----> 1\u001b[0m z\u001b[38;5;241m=\u001b[39m\u001b[43mmodelisationss\u001b[49m\u001b[43m(\u001b[49m\u001b[43mx\u001b[49m\u001b[43m,\u001b[49m\u001b[43my\u001b[49m\u001b[43m)\u001b[49m\n",
      "Cell \u001b[0;32mIn[35], line 15\u001b[0m, in \u001b[0;36mmodelisationss\u001b[0;34m(filename, df)\u001b[0m\n\u001b[1;32m     13\u001b[0m     reg_model_name \u001b[38;5;241m=\u001b[39m \u001b[38;5;124m\"\u001b[39m\u001b[38;5;124mSklearnLinearRegression\u001b[39m\u001b[38;5;124m\"\u001b[39m\n\u001b[1;32m     14\u001b[0m     \u001b[38;5;28mprint\u001b[39m(\u001b[38;5;124m\"\u001b[39m\u001b[38;5;124m--\u001b[39m\u001b[38;5;124m\"\u001b[39m)\n\u001b[0;32m---> 15\u001b[0m     \u001b[43mmlflow\u001b[49m\u001b[38;5;241;43m.\u001b[39;49m\u001b[43mpyfunc\u001b[49m\u001b[38;5;241;43m.\u001b[39;49m\u001b[43mlog_model\u001b[49m\u001b[43m(\u001b[49m\u001b[43mpath\u001b[49m\u001b[38;5;241;43m=\u001b[39;49m\u001b[43mloaded_model\u001b[49m\n\u001b[1;32m     16\u001b[0m \u001b[43m\u001b[49m\u001b[43m)\u001b[49m\n\u001b[1;32m     17\u001b[0m \u001b[38;5;28;01mreturn\u001b[39;00m signature\n",
      "File \u001b[0;32m~/code_python/mts/mlflow-minio-postgres/venv/lib/python3.11/site-packages/mlflow/tracing/provider.py:268\u001b[0m, in \u001b[0;36mtrace_disabled.<locals>.wrapper\u001b[0;34m(*args, **kwargs)\u001b[0m\n\u001b[1;32m    266\u001b[0m disable()\n\u001b[1;32m    267\u001b[0m \u001b[38;5;28;01mtry\u001b[39;00m:\n\u001b[0;32m--> 268\u001b[0m     is_func_called, result \u001b[38;5;241m=\u001b[39m \u001b[38;5;28;01mTrue\u001b[39;00m, \u001b[43mf\u001b[49m\u001b[43m(\u001b[49m\u001b[38;5;241;43m*\u001b[39;49m\u001b[43margs\u001b[49m\u001b[43m,\u001b[49m\u001b[43m \u001b[49m\u001b[38;5;241;43m*\u001b[39;49m\u001b[38;5;241;43m*\u001b[39;49m\u001b[43mkwargs\u001b[49m\u001b[43m)\u001b[49m\n\u001b[1;32m    269\u001b[0m \u001b[38;5;28;01mfinally\u001b[39;00m:\n\u001b[1;32m    270\u001b[0m     enable()\n",
      "\u001b[0;31mTypeError\u001b[0m: log_model() got an unexpected keyword argument 'path'"
     ]
    }
   ],
   "source": [
    "z=modelisationss(x,y)"
   ]
  },
  {
   "cell_type": "code",
   "execution_count": 6,
   "metadata": {},
   "outputs": [],
   "source": [
    "metric_weighting = {\n",
    "    'smape_weighting': 5,\n",
    "    'mae_weighting': 2,\n",
    "    'rmse_weighting': 2,\n",
    "    'made_weighting': 0.5,\n",
    "    'mage_weighting': 1,\n",
    "    'mle_weighting': 0,\n",
    "    'imle_weighting': 0,\n",
    "    'spl_weighting': 3,\n",
    "    'containment_weighting': 0,\n",
    "    'contour_weighting': 1,\n",
    "    'runtime_weighting': 0.05,\n",
    "}\n"
   ]
  },
  {
   "cell_type": "code",
   "execution_count": 5,
   "metadata": {},
   "outputs": [],
   "source": [
    "model_list = [\n",
    " 'Theta'\n",
    "]"
   ]
  },
  {
   "cell_type": "code",
   "execution_count": 6,
   "metadata": {},
   "outputs": [
    {
     "name": "stdout",
     "output_type": "stream",
     "text": [
      "Using 1 cpus for n_jobs.\n"
     ]
    }
   ],
   "source": [
    "model = AutoTS(\n",
    "    forecast_length=3,\n",
    "    frequency='infer',\n",
    "    ensemble='simple',\n",
    "    max_generations=5,\n",
    "    num_validations=2,\n",
    "    model_list=model_list\n",
    "\n",
    ")"
   ]
  },
  {
   "cell_type": "code",
   "execution_count": 7,
   "metadata": {},
   "outputs": [
    {
     "name": "stdout",
     "output_type": "stream",
     "text": [
      "Data frequency is: None, used frequency is: None\n",
      "Frequency is 'None'! Data frequency not recognized.\n",
      "One or more series is 90% or more NaN in this train split\n",
      "One or more series is 90% or more NaN in this test split\n",
      "Model Number: 1 with model FBProphet in generation 0 of 5\n",
      "Template Eval Error: ValueError('The number of derivatives at boundaries does not match: expected 2, got 0+0') in model 1 in generation 0: FBProphet\n",
      "Model Number: 2 with model MultivariateRegression in generation 0 of 5\n"
     ]
    },
    {
     "name": "stderr",
     "output_type": "stream",
     "text": [
      "/home/michel/code_python/mts/mlflow-minio-postgres/venv/lib/python3.11/site-packages/autots/evaluator/metrics.py:574: RuntimeWarning: Mean of empty slice\n",
      "  scaler = np.nanmean(np.abs(np.diff(df_train[-100:], axis=0)), axis=0)\n",
      "/home/michel/code_python/mts/mlflow-minio-postgres/venv/lib/python3.11/site-packages/autots/evaluator/metrics.py:575: RuntimeWarning: All-NaN slice encountered\n",
      "  fill_val = np.nanmax(scaler)\n"
     ]
    },
    {
     "name": "stdout",
     "output_type": "stream",
     "text": [
      "Model Number: 3 with model MultivariateRegression in generation 0 of 5\n",
      "Template Eval Error: ValueError(\"regression_type='User' but not future_regressor supplied.\") in model 3 in generation 0: MultivariateRegression\n",
      "Model Number: 4 with model MultivariateRegression in generation 0 of 5\n",
      "Model Number: 5 with model FBProphet in generation 0 of 5\n",
      "Model Number: 6 with model Theta in generation 0 of 5\n",
      "Model Number: 7 with model FBProphet in generation 0 of 5\n"
     ]
    },
    {
     "name": "stderr",
     "output_type": "stream",
     "text": [
      "/home/michel/code_python/mts/mlflow-minio-postgres/venv/lib/python3.11/site-packages/autots/tools/percentile.py:47: RuntimeWarning: All-NaN slice encountered\n",
      "  max_val = np.nanmax(arr)\n"
     ]
    },
    {
     "name": "stdout",
     "output_type": "stream",
     "text": [
      "Model Number: 8 with model FBProphet in generation 0 of 5\n",
      "Model Number: 9 with model MultivariateRegression in generation 0 of 5\n",
      "Model Number: 10 with model Theta in generation 0 of 5\n"
     ]
    },
    {
     "name": "stderr",
     "output_type": "stream",
     "text": [
      "/home/michel/code_python/mts/mlflow-minio-postgres/venv/lib/python3.11/site-packages/autots/tools/percentile.py:47: RuntimeWarning: All-NaN slice encountered\n",
      "  max_val = np.nanmax(arr)\n"
     ]
    },
    {
     "name": "stdout",
     "output_type": "stream",
     "text": [
      "Model Number: 11 with model Theta in generation 0 of 5\n",
      "Model Number: 12 with model FBProphet in generation 0 of 5\n",
      "Model Number: 13 with model Theta in generation 0 of 5\n",
      "Model Number: 14 with model Theta in generation 0 of 5\n",
      "Model Number: 15 with model FBProphet in generation 0 of 5\n",
      "Template Eval Error: ValueError('The number of derivatives at boundaries does not match: expected 2, got 0+0') in model 15 in generation 0: FBProphet\n",
      "Model Number: 16 with model FBProphet in generation 0 of 5\n",
      "No anomalies detected.\n"
     ]
    },
    {
     "name": "stderr",
     "output_type": "stream",
     "text": [
      "12:29:12 - cmdstanpy - INFO - Chain [1] start processing\n",
      "12:29:24 - cmdstanpy - INFO - Chain [1] done processing\n"
     ]
    },
    {
     "name": "stdout",
     "output_type": "stream",
     "text": [
      "Model Number: 17 with model FBProphet in generation 0 of 5\n",
      "Model Number: 18 with model MultivariateRegression in generation 0 of 5\n"
     ]
    },
    {
     "name": "stderr",
     "output_type": "stream",
     "text": [
      "[LightGBM] [Fatal] Unknown objective type name: regression,mape\n"
     ]
    },
    {
     "name": "stdout",
     "output_type": "stream",
     "text": [
      "Template Eval Error: LightGBMError('Unknown objective type name: regression,mape') in model 18 in generation 0: MultivariateRegression\n",
      "Model Number: 19 with model MultivariateRegression in generation 0 of 5\n",
      "Model Number: 20 with model Theta in generation 0 of 5\n",
      "Model Number: 21 with model Theta in generation 0 of 5\n",
      "Model Number: 22 with model Theta in generation 0 of 5\n"
     ]
    },
    {
     "name": "stderr",
     "output_type": "stream",
     "text": [
      "/home/michel/code_python/mts/mlflow-minio-postgres/venv/lib/python3.11/site-packages/numpy/lib/nanfunctions.py:1215: RuntimeWarning: Mean of empty slice\n",
      "  return np.nanmean(a, axis, out=out, keepdims=keepdims)\n"
     ]
    },
    {
     "name": "stdout",
     "output_type": "stream",
     "text": [
      "New Generation: 1 of 5\n"
     ]
    },
    {
     "name": "stderr",
     "output_type": "stream",
     "text": [
      "/home/michel/code_python/mts/mlflow-minio-postgres/venv/lib/python3.11/site-packages/autots/evaluator/metrics.py:574: RuntimeWarning: Mean of empty slice\n",
      "  scaler = np.nanmean(np.abs(np.diff(df_train[-100:], axis=0)), axis=0)\n",
      "/home/michel/code_python/mts/mlflow-minio-postgres/venv/lib/python3.11/site-packages/autots/evaluator/metrics.py:575: RuntimeWarning: All-NaN slice encountered\n",
      "  fill_val = np.nanmax(scaler)\n"
     ]
    },
    {
     "name": "stdout",
     "output_type": "stream",
     "text": [
      "Model Number: 23 with model MultivariateRegression in generation 1 of 5\n",
      "Template Eval Error: ValueError(\"regression_type='User' but not future_regressor supplied.\") in model 23 in generation 1: MultivariateRegression\n",
      "Model Number: 24 with model MultivariateRegression in generation 1 of 5\n",
      "Model Number: 25 with model MultivariateRegression in generation 1 of 5\n"
     ]
    },
    {
     "name": "stderr",
     "output_type": "stream",
     "text": [
      "/home/michel/code_python/mts/mlflow-minio-postgres/venv/lib/python3.11/site-packages/numpy/lib/nanfunctions.py:1215: RuntimeWarning: Mean of empty slice\n",
      "  return np.nanmean(a, axis, out=out, keepdims=keepdims)\n",
      "/home/michel/code_python/mts/mlflow-minio-postgres/venv/lib/python3.11/site-packages/autots/evaluator/metrics.py:574: RuntimeWarning: Mean of empty slice\n",
      "  scaler = np.nanmean(np.abs(np.diff(df_train[-100:], axis=0)), axis=0)\n",
      "/home/michel/code_python/mts/mlflow-minio-postgres/venv/lib/python3.11/site-packages/autots/evaluator/metrics.py:575: RuntimeWarning: All-NaN slice encountered\n",
      "  fill_val = np.nanmax(scaler)\n"
     ]
    },
    {
     "name": "stdout",
     "output_type": "stream",
     "text": [
      "New Generation: 2 of 5\n",
      "Model Number: 26 with model MultivariateRegression in generation 2 of 5\n",
      "Model Number: 27 with model MultivariateRegression in generation 2 of 5\n",
      "Model Number: 28 with model MultivariateRegression in generation 2 of 5\n",
      "New Generation: 3 of 5\n"
     ]
    },
    {
     "name": "stderr",
     "output_type": "stream",
     "text": [
      "/home/michel/code_python/mts/mlflow-minio-postgres/venv/lib/python3.11/site-packages/numpy/lib/nanfunctions.py:1215: RuntimeWarning: Mean of empty slice\n",
      "  return np.nanmean(a, axis, out=out, keepdims=keepdims)\n",
      "/home/michel/code_python/mts/mlflow-minio-postgres/venv/lib/python3.11/site-packages/autots/evaluator/metrics.py:574: RuntimeWarning: Mean of empty slice\n",
      "  scaler = np.nanmean(np.abs(np.diff(df_train[-100:], axis=0)), axis=0)\n",
      "/home/michel/code_python/mts/mlflow-minio-postgres/venv/lib/python3.11/site-packages/autots/evaluator/metrics.py:575: RuntimeWarning: All-NaN slice encountered\n",
      "  fill_val = np.nanmax(scaler)\n"
     ]
    },
    {
     "name": "stdout",
     "output_type": "stream",
     "text": [
      "Model Number: 29 with model MultivariateRegression in generation 3 of 5\n",
      "Model Number: 30 with model MultivariateRegression in generation 3 of 5\n"
     ]
    },
    {
     "name": "stderr",
     "output_type": "stream",
     "text": [
      "/home/michel/code_python/mts/mlflow-minio-postgres/venv/lib/python3.11/site-packages/sklearn/experimental/enable_hist_gradient_boosting.py:15: UserWarning: Since version 1.0, it is not needed to import enable_hist_gradient_boosting anymore. HistGradientBoostingClassifier and HistGradientBoostingRegressor are now stable and can be normally imported from sklearn.ensemble.\n",
      "  warnings.warn(\n"
     ]
    },
    {
     "name": "stdout",
     "output_type": "stream",
     "text": [
      "Model Number: 31 with model MultivariateRegression in generation 3 of 5\n",
      "Template Eval Error: ValueError(\"regression_type='User' but not future_regressor supplied.\") in model 31 in generation 3: MultivariateRegression\n",
      "New Generation: 4 of 5\n",
      "Model Number: 32 with model MultivariateRegression in generation 4 of 5\n",
      "Template Eval Error: ValueError(\"regression_type='User' but not future_regressor supplied.\") in model 32 in generation 4: MultivariateRegression\n",
      "Model Number: 33 with model MultivariateRegression in generation 4 of 5\n"
     ]
    },
    {
     "name": "stderr",
     "output_type": "stream",
     "text": [
      "/home/michel/code_python/mts/mlflow-minio-postgres/venv/lib/python3.11/site-packages/numpy/lib/nanfunctions.py:1215: RuntimeWarning: Mean of empty slice\n",
      "  return np.nanmean(a, axis, out=out, keepdims=keepdims)\n",
      "/home/michel/code_python/mts/mlflow-minio-postgres/venv/lib/python3.11/site-packages/autots/evaluator/metrics.py:574: RuntimeWarning: Mean of empty slice\n",
      "  scaler = np.nanmean(np.abs(np.diff(df_train[-100:], axis=0)), axis=0)\n",
      "/home/michel/code_python/mts/mlflow-minio-postgres/venv/lib/python3.11/site-packages/autots/evaluator/metrics.py:575: RuntimeWarning: All-NaN slice encountered\n",
      "  fill_val = np.nanmax(scaler)\n",
      "[LightGBM] [Fatal] [gamma]: at least one target label is negative\n"
     ]
    },
    {
     "name": "stdout",
     "output_type": "stream",
     "text": [
      "Template Eval Error: LightGBMError('[gamma]: at least one target label is negative') in model 33 in generation 4: MultivariateRegression\n",
      "Model Number: 34 with model MultivariateRegression in generation 4 of 5\n"
     ]
    },
    {
     "name": "stderr",
     "output_type": "stream",
     "text": [
      "/home/michel/code_python/mts/mlflow-minio-postgres/venv/lib/python3.11/site-packages/numpy/lib/nanfunctions.py:1215: RuntimeWarning: Mean of empty slice\n",
      "  return np.nanmean(a, axis, out=out, keepdims=keepdims)\n",
      "/home/michel/code_python/mts/mlflow-minio-postgres/venv/lib/python3.11/site-packages/autots/evaluator/metrics.py:574: RuntimeWarning: Mean of empty slice\n",
      "  scaler = np.nanmean(np.abs(np.diff(df_train[-100:], axis=0)), axis=0)\n",
      "/home/michel/code_python/mts/mlflow-minio-postgres/venv/lib/python3.11/site-packages/autots/evaluator/metrics.py:575: RuntimeWarning: All-NaN slice encountered\n",
      "  fill_val = np.nanmax(scaler)\n",
      "/home/michel/code_python/mts/mlflow-minio-postgres/venv/lib/python3.11/site-packages/numpy/lib/nanfunctions.py:1215: RuntimeWarning: Mean of empty slice\n",
      "  return np.nanmean(a, axis, out=out, keepdims=keepdims)\n"
     ]
    },
    {
     "name": "stdout",
     "output_type": "stream",
     "text": [
      "New Generation: 5 of 5\n",
      "Model Number: 35 with model MultivariateRegression in generation 5 of 5\n",
      "Template Eval Error: Exception(\"Transformer Detrend failed on fit from params ffill {'0': {'method': 'remove', 'std_threshold': 5, 'fillna': 'rolling_mean_24'}, '1': {'model': 'Tweedie', 'phi': 1, 'window': 900, 'transform_dict': None}, '2': {'rows': 1, 'lag': 1, 'method': 'additive', 'strength': 1.0, 'first_value_only': False, 'threshold': None, 'threshold_method': 'max'}, '3': {'low': 6, 'high': 32, 'K': 1, 'lanczos_factor': False, 'return_diff': True, 'on_transform': True, 'on_inverse': False}, '4': {'lag_1': 2, 'method': 2}}\") in model 35 in generation 5: MultivariateRegression\n",
      "Model Number: 36 with model MultivariateRegression in generation 5 of 5\n",
      "Template Eval Error: ValueError(\"regression_type='User' but not future_regressor supplied.\") in model 36 in generation 5: MultivariateRegression\n",
      "Model Number: 37 with model MultivariateRegression in generation 5 of 5\n",
      "Template Eval Error: Exception(\"Transformer Detrend failed on fit from params ffill {'0': {'cutoff': 0.1, 'reverse': True}, '1': {'model': 'Tweedie', 'phi': 1, 'window': 900, 'transform_dict': None}}\") in model 37 in generation 5: MultivariateRegression\n",
      "Generation 5 had all new models fail\n",
      "NaN in Contour in generate_score_per_series\n",
      "NaN in Contour in generate_score_per_series\n"
     ]
    },
    {
     "name": "stderr",
     "output_type": "stream",
     "text": [
      "/home/michel/code_python/mts/mlflow-minio-postgres/venv/lib/python3.11/site-packages/autots/evaluator/metrics.py:574: RuntimeWarning: Mean of empty slice\n",
      "  scaler = np.nanmean(np.abs(np.diff(df_train[-100:], axis=0)), axis=0)\n",
      "/home/michel/code_python/mts/mlflow-minio-postgres/venv/lib/python3.11/site-packages/autots/evaluator/metrics.py:575: RuntimeWarning: All-NaN slice encountered\n",
      "  fill_val = np.nanmax(scaler)\n"
     ]
    },
    {
     "name": "stdout",
     "output_type": "stream",
     "text": [
      "Model Number: 38 with model Ensemble in generation 6 of Ensembles\n",
      "Traceback (most recent call last):\n",
      "  File \"/home/michel/code_python/mts/mlflow-minio-postgres/venv/lib/python3.11/site-packages/autots/evaluator/auto_model.py\", line 1386, in model_forecast\n",
      "    df_forecast = model_forecast(\n",
      "                  ^^^^^^^^^^^^^^^\n",
      "  File \"/home/michel/code_python/mts/mlflow-minio-postgres/venv/lib/python3.11/site-packages/autots/evaluator/auto_model.py\", line 1493, in model_forecast\n",
      "    model = model.fit(df_train_low, future_regressor_train)\n",
      "            ^^^^^^^^^^^^^^^^^^^^^^^^^^^^^^^^^^^^^^^^^^^^^^^\n",
      "  File \"/home/michel/code_python/mts/mlflow-minio-postgres/venv/lib/python3.11/site-packages/autots/evaluator/auto_model.py\", line 860, in fit\n",
      "    df_train_transformed = self.transformer_object._fit(df)\n",
      "                           ^^^^^^^^^^^^^^^^^^^^^^^^^^^^^^^^\n",
      "  File \"/home/michel/code_python/mts/mlflow-minio-postgres/venv/lib/python3.11/site-packages/autots/tools/transform.py\", line 5485, in _fit\n",
      "    df = self._first_fit(df)\n",
      "         ^^^^^^^^^^^^^^^^^^^\n",
      "  File \"/home/michel/code_python/mts/mlflow-minio-postgres/venv/lib/python3.11/site-packages/autots/tools/transform.py\", line 5449, in _first_fit\n",
      "    df = self.fill_na(df)\n",
      "         ^^^^^^^^^^^^^^^^\n",
      "  File \"/home/michel/code_python/mts/mlflow-minio-postgres/venv/lib/python3.11/site-packages/autots/tools/transform.py\", line 5301, in fill_na\n",
      "    return FillNA(df, method=self.fillna, window=window)\n",
      "           ^^^^^^^^^^^^^^^^^^^^^^^^^^^^^^^^^^^^^^^^^^^^^\n",
      "  File \"/home/michel/code_python/mts/mlflow-minio-postgres/venv/lib/python3.11/site-packages/autots/tools/impute.py\", line 251, in FillNA\n",
      "    df = df.interpolate(method=method, order=5).bfill()\n",
      "         ^^^^^^^^^^^^^^^^^^^^^^^^^^^^^^^^^^^^^^\n",
      "  File \"/home/michel/code_python/mts/mlflow-minio-postgres/venv/lib/python3.11/site-packages/pandas/core/generic.py\", line 8206, in interpolate\n",
      "    new_data = obj._mgr.interpolate(\n",
      "               ^^^^^^^^^^^^^^^^^^^^^\n",
      "  File \"/home/michel/code_python/mts/mlflow-minio-postgres/venv/lib/python3.11/site-packages/pandas/core/internals/base.py\", line 265, in interpolate\n",
      "    return self.apply_with_block(\n",
      "           ^^^^^^^^^^^^^^^^^^^^^^\n",
      "  File \"/home/michel/code_python/mts/mlflow-minio-postgres/venv/lib/python3.11/site-packages/pandas/core/internals/managers.py\", line 354, in apply\n",
      "    applied = getattr(b, f)(**kwargs)\n",
      "              ^^^^^^^^^^^^^^^^^^^^^^^\n",
      "  File \"/home/michel/code_python/mts/mlflow-minio-postgres/venv/lib/python3.11/site-packages/pandas/core/internals/blocks.py\", line 1507, in interpolate\n",
      "    new_values = self.array_values.interpolate(\n",
      "                 ^^^^^^^^^^^^^^^^^^^^^^^^^^^^^^\n",
      "  File \"/home/michel/code_python/mts/mlflow-minio-postgres/venv/lib/python3.11/site-packages/pandas/core/arrays/numpy_.py\", line 297, in interpolate\n",
      "    missing.interpolate_2d_inplace(\n",
      "  File \"/home/michel/code_python/mts/mlflow-minio-postgres/venv/lib/python3.11/site-packages/pandas/core/missing.py\", line 370, in interpolate_2d_inplace\n",
      "    np.apply_along_axis(func, axis, data)  # type: ignore[arg-type]\n",
      "    ^^^^^^^^^^^^^^^^^^^^^^^^^^^^^^^^^^^^^\n",
      "  File \"/home/michel/code_python/mts/mlflow-minio-postgres/venv/lib/python3.11/site-packages/numpy/lib/shape_base.py\", line 379, in apply_along_axis\n",
      "    res = asanyarray(func1d(inarr_view[ind0], *args, **kwargs))\n",
      "                     ^^^^^^^^^^^^^^^^^^^^^^^^^^^^^^^^^^^^^^^^^\n",
      "  File \"/home/michel/code_python/mts/mlflow-minio-postgres/venv/lib/python3.11/site-packages/pandas/core/missing.py\", line 352, in func\n",
      "    _interpolate_1d(\n",
      "  File \"/home/michel/code_python/mts/mlflow-minio-postgres/venv/lib/python3.11/site-packages/pandas/core/missing.py\", line 485, in _interpolate_1d\n",
      "    yvalues[invalid] = _interpolate_scipy_wrapper(\n",
      "                       ^^^^^^^^^^^^^^^^^^^^^^^^^^^\n",
      "  File \"/home/michel/code_python/mts/mlflow-minio-postgres/venv/lib/python3.11/site-packages/pandas/core/missing.py\", line 548, in _interpolate_scipy_wrapper\n",
      "    terp = interpolate.interp1d(\n",
      "           ^^^^^^^^^^^^^^^^^^^^^\n",
      "  File \"/home/michel/code_python/mts/mlflow-minio-postgres/venv/lib/python3.11/site-packages/scipy/interpolate/_interpolate.py\", line 619, in __init__\n",
      "    self._spline = make_interp_spline(xx, yy, k=order,\n",
      "                   ^^^^^^^^^^^^^^^^^^^^^^^^^^^^^^^^^^^\n",
      "  File \"/home/michel/code_python/mts/mlflow-minio-postgres/venv/lib/python3.11/site-packages/scipy/interpolate/_bsplines.py\", line 1373, in make_interp_spline\n",
      "    raise ValueError(\"The number of derivatives at boundaries does not \"\n",
      "ValueError: The number of derivatives at boundaries does not match: expected 2, got 0+0\n",
      "\n",
      "FAILED: Ensemble BestN component 2 of 3 FBProphet with error: ValueError('The number of derivatives at boundaries does not match: expected 2, got 0+0')\n",
      "Traceback (most recent call last):\n",
      "  File \"/home/michel/code_python/mts/mlflow-minio-postgres/venv/lib/python3.11/site-packages/autots/evaluator/auto_model.py\", line 1386, in model_forecast\n",
      "    df_forecast = model_forecast(\n",
      "                  ^^^^^^^^^^^^^^^\n",
      "  File \"/home/michel/code_python/mts/mlflow-minio-postgres/venv/lib/python3.11/site-packages/autots/evaluator/auto_model.py\", line 1493, in model_forecast\n",
      "    model = model.fit(df_train_low, future_regressor_train)\n",
      "            ^^^^^^^^^^^^^^^^^^^^^^^^^^^^^^^^^^^^^^^^^^^^^^^\n",
      "  File \"/home/michel/code_python/mts/mlflow-minio-postgres/venv/lib/python3.11/site-packages/autots/evaluator/auto_model.py\", line 868, in fit\n",
      "    self.model = self.model.fit(\n",
      "                 ^^^^^^^^^^^^^^^\n",
      "  File \"/home/michel/code_python/mts/mlflow-minio-postgres/venv/lib/python3.11/site-packages/autots/models/sklearn.py\", line 3162, in fit\n",
      "    raise ValueError(\n",
      "ValueError: regression_type='User' but not future_regressor supplied.\n",
      "\n",
      "FAILED: Ensemble BestN component 4 of 3 MultivariateRegression with error: ValueError(\"regression_type='User' but not future_regressor supplied.\")\n",
      "Model Number: 39 with model Ensemble in generation 6 of Ensembles\n",
      "Traceback (most recent call last):\n",
      "  File \"/home/michel/code_python/mts/mlflow-minio-postgres/venv/lib/python3.11/site-packages/autots/evaluator/auto_model.py\", line 1386, in model_forecast\n",
      "    df_forecast = model_forecast(\n",
      "                  ^^^^^^^^^^^^^^^\n",
      "  File \"/home/michel/code_python/mts/mlflow-minio-postgres/venv/lib/python3.11/site-packages/autots/evaluator/auto_model.py\", line 1493, in model_forecast\n",
      "    model = model.fit(df_train_low, future_regressor_train)\n",
      "            ^^^^^^^^^^^^^^^^^^^^^^^^^^^^^^^^^^^^^^^^^^^^^^^\n",
      "  File \"/home/michel/code_python/mts/mlflow-minio-postgres/venv/lib/python3.11/site-packages/autots/evaluator/auto_model.py\", line 860, in fit\n",
      "    df_train_transformed = self.transformer_object._fit(df)\n",
      "                           ^^^^^^^^^^^^^^^^^^^^^^^^^^^^^^^^\n",
      "  File \"/home/michel/code_python/mts/mlflow-minio-postgres/venv/lib/python3.11/site-packages/autots/tools/transform.py\", line 5485, in _fit\n",
      "    df = self._first_fit(df)\n",
      "         ^^^^^^^^^^^^^^^^^^^\n",
      "  File \"/home/michel/code_python/mts/mlflow-minio-postgres/venv/lib/python3.11/site-packages/autots/tools/transform.py\", line 5449, in _first_fit\n",
      "    df = self.fill_na(df)\n",
      "         ^^^^^^^^^^^^^^^^\n",
      "  File \"/home/michel/code_python/mts/mlflow-minio-postgres/venv/lib/python3.11/site-packages/autots/tools/transform.py\", line 5301, in fill_na\n",
      "    return FillNA(df, method=self.fillna, window=window)\n",
      "           ^^^^^^^^^^^^^^^^^^^^^^^^^^^^^^^^^^^^^^^^^^^^^\n",
      "  File \"/home/michel/code_python/mts/mlflow-minio-postgres/venv/lib/python3.11/site-packages/autots/tools/impute.py\", line 251, in FillNA\n",
      "    df = df.interpolate(method=method, order=5).bfill()\n",
      "         ^^^^^^^^^^^^^^^^^^^^^^^^^^^^^^^^^^^^^^\n",
      "  File \"/home/michel/code_python/mts/mlflow-minio-postgres/venv/lib/python3.11/site-packages/pandas/core/generic.py\", line 8206, in interpolate\n",
      "    new_data = obj._mgr.interpolate(\n",
      "               ^^^^^^^^^^^^^^^^^^^^^\n",
      "  File \"/home/michel/code_python/mts/mlflow-minio-postgres/venv/lib/python3.11/site-packages/pandas/core/internals/base.py\", line 265, in interpolate\n",
      "    return self.apply_with_block(\n",
      "           ^^^^^^^^^^^^^^^^^^^^^^\n",
      "  File \"/home/michel/code_python/mts/mlflow-minio-postgres/venv/lib/python3.11/site-packages/pandas/core/internals/managers.py\", line 354, in apply\n",
      "    applied = getattr(b, f)(**kwargs)\n",
      "              ^^^^^^^^^^^^^^^^^^^^^^^\n",
      "  File \"/home/michel/code_python/mts/mlflow-minio-postgres/venv/lib/python3.11/site-packages/pandas/core/internals/blocks.py\", line 1507, in interpolate\n",
      "    new_values = self.array_values.interpolate(\n",
      "                 ^^^^^^^^^^^^^^^^^^^^^^^^^^^^^^\n",
      "  File \"/home/michel/code_python/mts/mlflow-minio-postgres/venv/lib/python3.11/site-packages/pandas/core/arrays/numpy_.py\", line 297, in interpolate\n",
      "    missing.interpolate_2d_inplace(\n",
      "  File \"/home/michel/code_python/mts/mlflow-minio-postgres/venv/lib/python3.11/site-packages/pandas/core/missing.py\", line 370, in interpolate_2d_inplace\n",
      "    np.apply_along_axis(func, axis, data)  # type: ignore[arg-type]\n",
      "    ^^^^^^^^^^^^^^^^^^^^^^^^^^^^^^^^^^^^^\n",
      "  File \"/home/michel/code_python/mts/mlflow-minio-postgres/venv/lib/python3.11/site-packages/numpy/lib/shape_base.py\", line 379, in apply_along_axis\n",
      "    res = asanyarray(func1d(inarr_view[ind0], *args, **kwargs))\n",
      "                     ^^^^^^^^^^^^^^^^^^^^^^^^^^^^^^^^^^^^^^^^^\n",
      "  File \"/home/michel/code_python/mts/mlflow-minio-postgres/venv/lib/python3.11/site-packages/pandas/core/missing.py\", line 352, in func\n",
      "    _interpolate_1d(\n",
      "  File \"/home/michel/code_python/mts/mlflow-minio-postgres/venv/lib/python3.11/site-packages/pandas/core/missing.py\", line 485, in _interpolate_1d\n",
      "    yvalues[invalid] = _interpolate_scipy_wrapper(\n",
      "                       ^^^^^^^^^^^^^^^^^^^^^^^^^^^\n",
      "  File \"/home/michel/code_python/mts/mlflow-minio-postgres/venv/lib/python3.11/site-packages/pandas/core/missing.py\", line 548, in _interpolate_scipy_wrapper\n",
      "    terp = interpolate.interp1d(\n",
      "           ^^^^^^^^^^^^^^^^^^^^^\n",
      "  File \"/home/michel/code_python/mts/mlflow-minio-postgres/venv/lib/python3.11/site-packages/scipy/interpolate/_interpolate.py\", line 619, in __init__\n",
      "    self._spline = make_interp_spline(xx, yy, k=order,\n",
      "                   ^^^^^^^^^^^^^^^^^^^^^^^^^^^^^^^^^^^\n",
      "  File \"/home/michel/code_python/mts/mlflow-minio-postgres/venv/lib/python3.11/site-packages/scipy/interpolate/_bsplines.py\", line 1373, in make_interp_spline\n",
      "    raise ValueError(\"The number of derivatives at boundaries does not \"\n",
      "ValueError: The number of derivatives at boundaries does not match: expected 2, got 0+0\n",
      "\n",
      "FAILED: Ensemble BestN component 2 of 5 FBProphet with error: ValueError('The number of derivatives at boundaries does not match: expected 2, got 0+0')\n",
      "Traceback (most recent call last):\n",
      "  File \"/home/michel/code_python/mts/mlflow-minio-postgres/venv/lib/python3.11/site-packages/autots/evaluator/auto_model.py\", line 1386, in model_forecast\n",
      "    df_forecast = model_forecast(\n",
      "                  ^^^^^^^^^^^^^^^\n",
      "  File \"/home/michel/code_python/mts/mlflow-minio-postgres/venv/lib/python3.11/site-packages/autots/evaluator/auto_model.py\", line 1493, in model_forecast\n",
      "    model = model.fit(df_train_low, future_regressor_train)\n",
      "            ^^^^^^^^^^^^^^^^^^^^^^^^^^^^^^^^^^^^^^^^^^^^^^^\n",
      "  File \"/home/michel/code_python/mts/mlflow-minio-postgres/venv/lib/python3.11/site-packages/autots/evaluator/auto_model.py\", line 868, in fit\n",
      "    self.model = self.model.fit(\n",
      "                 ^^^^^^^^^^^^^^^\n",
      "  File \"/home/michel/code_python/mts/mlflow-minio-postgres/venv/lib/python3.11/site-packages/autots/models/sklearn.py\", line 3162, in fit\n",
      "    raise ValueError(\n",
      "ValueError: regression_type='User' but not future_regressor supplied.\n",
      "\n",
      "FAILED: Ensemble BestN component 4 of 5 MultivariateRegression with error: ValueError(\"regression_type='User' but not future_regressor supplied.\")\n",
      "Model Number: 40 with model Ensemble in generation 6 of Ensembles\n",
      "Model Number: 41 with model Ensemble in generation 6 of Ensembles\n"
     ]
    },
    {
     "name": "stderr",
     "output_type": "stream",
     "text": [
      "/home/michel/code_python/mts/mlflow-minio-postgres/venv/lib/python3.11/site-packages/autots/tools/percentile.py:47: RuntimeWarning: All-NaN slice encountered\n",
      "  max_val = np.nanmax(arr)\n"
     ]
    },
    {
     "name": "stdout",
     "output_type": "stream",
     "text": [
      "Model Number: 42 with model Ensemble in generation 6 of Ensembles\n",
      "Traceback (most recent call last):\n",
      "  File \"/home/michel/code_python/mts/mlflow-minio-postgres/venv/lib/python3.11/site-packages/autots/evaluator/auto_model.py\", line 1386, in model_forecast\n",
      "    df_forecast = model_forecast(\n",
      "                  ^^^^^^^^^^^^^^^\n",
      "  File \"/home/michel/code_python/mts/mlflow-minio-postgres/venv/lib/python3.11/site-packages/autots/evaluator/auto_model.py\", line 1493, in model_forecast\n",
      "    model = model.fit(df_train_low, future_regressor_train)\n",
      "            ^^^^^^^^^^^^^^^^^^^^^^^^^^^^^^^^^^^^^^^^^^^^^^^\n",
      "  File \"/home/michel/code_python/mts/mlflow-minio-postgres/venv/lib/python3.11/site-packages/autots/evaluator/auto_model.py\", line 860, in fit\n",
      "    df_train_transformed = self.transformer_object._fit(df)\n",
      "                           ^^^^^^^^^^^^^^^^^^^^^^^^^^^^^^^^\n",
      "  File \"/home/michel/code_python/mts/mlflow-minio-postgres/venv/lib/python3.11/site-packages/autots/tools/transform.py\", line 5485, in _fit\n",
      "    df = self._first_fit(df)\n",
      "         ^^^^^^^^^^^^^^^^^^^\n",
      "  File \"/home/michel/code_python/mts/mlflow-minio-postgres/venv/lib/python3.11/site-packages/autots/tools/transform.py\", line 5449, in _first_fit\n",
      "    df = self.fill_na(df)\n",
      "         ^^^^^^^^^^^^^^^^\n",
      "  File \"/home/michel/code_python/mts/mlflow-minio-postgres/venv/lib/python3.11/site-packages/autots/tools/transform.py\", line 5301, in fill_na\n",
      "    return FillNA(df, method=self.fillna, window=window)\n",
      "           ^^^^^^^^^^^^^^^^^^^^^^^^^^^^^^^^^^^^^^^^^^^^^\n",
      "  File \"/home/michel/code_python/mts/mlflow-minio-postgres/venv/lib/python3.11/site-packages/autots/tools/impute.py\", line 251, in FillNA\n",
      "    df = df.interpolate(method=method, order=5).bfill()\n",
      "         ^^^^^^^^^^^^^^^^^^^^^^^^^^^^^^^^^^^^^^\n",
      "  File \"/home/michel/code_python/mts/mlflow-minio-postgres/venv/lib/python3.11/site-packages/pandas/core/generic.py\", line 8206, in interpolate\n",
      "    new_data = obj._mgr.interpolate(\n",
      "               ^^^^^^^^^^^^^^^^^^^^^\n",
      "  File \"/home/michel/code_python/mts/mlflow-minio-postgres/venv/lib/python3.11/site-packages/pandas/core/internals/base.py\", line 265, in interpolate\n",
      "    return self.apply_with_block(\n",
      "           ^^^^^^^^^^^^^^^^^^^^^^\n",
      "  File \"/home/michel/code_python/mts/mlflow-minio-postgres/venv/lib/python3.11/site-packages/pandas/core/internals/managers.py\", line 354, in apply\n",
      "    applied = getattr(b, f)(**kwargs)\n",
      "              ^^^^^^^^^^^^^^^^^^^^^^^\n",
      "  File \"/home/michel/code_python/mts/mlflow-minio-postgres/venv/lib/python3.11/site-packages/pandas/core/internals/blocks.py\", line 1507, in interpolate\n",
      "    new_values = self.array_values.interpolate(\n",
      "                 ^^^^^^^^^^^^^^^^^^^^^^^^^^^^^^\n",
      "  File \"/home/michel/code_python/mts/mlflow-minio-postgres/venv/lib/python3.11/site-packages/pandas/core/arrays/numpy_.py\", line 297, in interpolate\n",
      "    missing.interpolate_2d_inplace(\n",
      "  File \"/home/michel/code_python/mts/mlflow-minio-postgres/venv/lib/python3.11/site-packages/pandas/core/missing.py\", line 370, in interpolate_2d_inplace\n",
      "    np.apply_along_axis(func, axis, data)  # type: ignore[arg-type]\n",
      "    ^^^^^^^^^^^^^^^^^^^^^^^^^^^^^^^^^^^^^\n",
      "  File \"/home/michel/code_python/mts/mlflow-minio-postgres/venv/lib/python3.11/site-packages/numpy/lib/shape_base.py\", line 379, in apply_along_axis\n",
      "    res = asanyarray(func1d(inarr_view[ind0], *args, **kwargs))\n",
      "                     ^^^^^^^^^^^^^^^^^^^^^^^^^^^^^^^^^^^^^^^^^\n",
      "  File \"/home/michel/code_python/mts/mlflow-minio-postgres/venv/lib/python3.11/site-packages/pandas/core/missing.py\", line 352, in func\n",
      "    _interpolate_1d(\n",
      "  File \"/home/michel/code_python/mts/mlflow-minio-postgres/venv/lib/python3.11/site-packages/pandas/core/missing.py\", line 485, in _interpolate_1d\n",
      "    yvalues[invalid] = _interpolate_scipy_wrapper(\n",
      "                       ^^^^^^^^^^^^^^^^^^^^^^^^^^^\n",
      "  File \"/home/michel/code_python/mts/mlflow-minio-postgres/venv/lib/python3.11/site-packages/pandas/core/missing.py\", line 548, in _interpolate_scipy_wrapper\n",
      "    terp = interpolate.interp1d(\n",
      "           ^^^^^^^^^^^^^^^^^^^^^\n",
      "  File \"/home/michel/code_python/mts/mlflow-minio-postgres/venv/lib/python3.11/site-packages/scipy/interpolate/_interpolate.py\", line 619, in __init__\n",
      "    self._spline = make_interp_spline(xx, yy, k=order,\n",
      "                   ^^^^^^^^^^^^^^^^^^^^^^^^^^^^^^^^^^^\n",
      "  File \"/home/michel/code_python/mts/mlflow-minio-postgres/venv/lib/python3.11/site-packages/scipy/interpolate/_bsplines.py\", line 1373, in make_interp_spline\n",
      "    raise ValueError(\"The number of derivatives at boundaries does not \"\n",
      "ValueError: The number of derivatives at boundaries does not match: expected 2, got 0+0\n",
      "\n",
      "FAILED: Ensemble BestN component 2 of 3 FBProphet with error: ValueError('The number of derivatives at boundaries does not match: expected 2, got 0+0')\n",
      "Model Number: 43 with model Ensemble in generation 6 of Ensembles\n",
      "Template Eval Error: ValueError('BestN failed, no component models available.') in model 43 in generation 6: Ensemble\n",
      "Validation Round: 1\n",
      "One or more series is 90% or more NaN in this train split\n",
      "One or more series is 90% or more NaN in this test split\n",
      "Model Number: 1 of 7 with model MultivariateRegression for Validation 1\n"
     ]
    },
    {
     "name": "stderr",
     "output_type": "stream",
     "text": [
      "/home/michel/code_python/mts/mlflow-minio-postgres/venv/lib/python3.11/site-packages/numpy/lib/nanfunctions.py:1215: RuntimeWarning: Mean of empty slice\n",
      "  return np.nanmean(a, axis, out=out, keepdims=keepdims)\n",
      "/home/michel/code_python/mts/mlflow-minio-postgres/venv/lib/python3.11/site-packages/autots/evaluator/metrics.py:574: RuntimeWarning: Mean of empty slice\n",
      "  scaler = np.nanmean(np.abs(np.diff(df_train[-100:], axis=0)), axis=0)\n",
      "/home/michel/code_python/mts/mlflow-minio-postgres/venv/lib/python3.11/site-packages/autots/evaluator/metrics.py:575: RuntimeWarning: All-NaN slice encountered\n",
      "  fill_val = np.nanmax(scaler)\n"
     ]
    },
    {
     "name": "stdout",
     "output_type": "stream",
     "text": [
      "1 - MultivariateRegression with avg smape nan: \n",
      "Model Number: 2 of 7 with model MultivariateRegression for Validation 1\n",
      "2 - MultivariateRegression with avg smape nan: \n",
      "Model Number: 3 of 7 with model FBProphet for Validation 1\n",
      "3 - FBProphet with avg smape nan: \n",
      "Model Number: 4 of 7 with model Theta for Validation 1\n",
      "4 - Theta with avg smape nan: \n",
      "Model Number: 5 of 7 with model FBProphet for Validation 1\n"
     ]
    },
    {
     "name": "stderr",
     "output_type": "stream",
     "text": [
      "/home/michel/code_python/mts/mlflow-minio-postgres/venv/lib/python3.11/site-packages/autots/tools/percentile.py:47: RuntimeWarning: All-NaN slice encountered\n",
      "  max_val = np.nanmax(arr)\n"
     ]
    },
    {
     "name": "stdout",
     "output_type": "stream",
     "text": [
      "5 - FBProphet with avg smape nan: \n",
      "Model Number: 6 of 7 with model FBProphet for Validation 1\n",
      "6 - FBProphet with avg smape nan: \n",
      "Model Number: 7 of 7 with model MultivariateRegression for Validation 1\n",
      "7 - MultivariateRegression with avg smape nan: \n",
      "Validation Round: 2\n",
      "One or more series is 90% or more NaN in this train split\n",
      "One or more series is 90% or more NaN in this test split\n",
      "Model Number: 1 of 7 with model MultivariateRegression for Validation 2\n"
     ]
    },
    {
     "name": "stderr",
     "output_type": "stream",
     "text": [
      "/home/michel/code_python/mts/mlflow-minio-postgres/venv/lib/python3.11/site-packages/numpy/lib/nanfunctions.py:1215: RuntimeWarning: Mean of empty slice\n",
      "  return np.nanmean(a, axis, out=out, keepdims=keepdims)\n",
      "/home/michel/code_python/mts/mlflow-minio-postgres/venv/lib/python3.11/site-packages/autots/evaluator/metrics.py:574: RuntimeWarning: Mean of empty slice\n",
      "  scaler = np.nanmean(np.abs(np.diff(df_train[-100:], axis=0)), axis=0)\n",
      "/home/michel/code_python/mts/mlflow-minio-postgres/venv/lib/python3.11/site-packages/autots/evaluator/metrics.py:575: RuntimeWarning: All-NaN slice encountered\n",
      "  fill_val = np.nanmax(scaler)\n"
     ]
    },
    {
     "name": "stdout",
     "output_type": "stream",
     "text": [
      "1 - MultivariateRegression with avg smape nan: \n",
      "Model Number: 2 of 7 with model MultivariateRegression for Validation 2\n",
      "2 - MultivariateRegression with avg smape nan: \n",
      "Model Number: 3 of 7 with model FBProphet for Validation 2\n",
      "3 - FBProphet with avg smape nan: \n",
      "Model Number: 4 of 7 with model Theta for Validation 2\n",
      "4 - Theta with avg smape nan: \n",
      "Model Number: 5 of 7 with model FBProphet for Validation 2\n"
     ]
    },
    {
     "name": "stderr",
     "output_type": "stream",
     "text": [
      "/home/michel/code_python/mts/mlflow-minio-postgres/venv/lib/python3.11/site-packages/autots/tools/percentile.py:47: RuntimeWarning: All-NaN slice encountered\n",
      "  max_val = np.nanmax(arr)\n"
     ]
    },
    {
     "name": "stdout",
     "output_type": "stream",
     "text": [
      "5 - FBProphet with avg smape nan: \n",
      "Model Number: 6 of 7 with model FBProphet for Validation 2\n",
      "6 - FBProphet with avg smape nan: \n",
      "Model Number: 7 of 7 with model MultivariateRegression for Validation 2\n",
      "7 - MultivariateRegression with avg smape nan: \n",
      "NaN in Contour in generate_score_per_series\n",
      "NaN in Contour in generate_score_per_series\n"
     ]
    },
    {
     "name": "stderr",
     "output_type": "stream",
     "text": [
      "/home/michel/code_python/mts/mlflow-minio-postgres/venv/lib/python3.11/site-packages/numpy/lib/nanfunctions.py:1215: RuntimeWarning: Mean of empty slice\n",
      "  return np.nanmean(a, axis, out=out, keepdims=keepdims)\n",
      "/home/michel/code_python/mts/mlflow-minio-postgres/venv/lib/python3.11/site-packages/numpy/lib/nanfunctions.py:1215: RuntimeWarning: Mean of empty slice\n",
      "  return np.nanmean(a, axis, out=out, keepdims=keepdims)\n",
      "/home/michel/code_python/mts/mlflow-minio-postgres/venv/lib/python3.11/site-packages/autots/evaluator/auto_model.py:2481: FutureWarning: The behavior of DataFrame.idxmin with all-NA values, or any-NA and skipna=False, is deprecated. In a future version this will raise ValueError\n",
      "  per_series.idxmin(axis=1).rename(\"lowest_series_mape_name\"),\n",
      "/home/michel/code_python/mts/mlflow-minio-postgres/venv/lib/python3.11/site-packages/autots/evaluator/auto_model.py:2483: FutureWarning: The behavior of DataFrame.idxmax with all-NA values, or any-NA and skipna=False, is deprecated. In a future version this will raise ValueError\n",
      "  per_series.idxmax(axis=1).rename(\"highest_series_mape_name\"),\n",
      "/home/michel/code_python/mts/mlflow-minio-postgres/venv/lib/python3.11/site-packages/autots/evaluator/metrics.py:574: RuntimeWarning: Mean of empty slice\n",
      "  scaler = np.nanmean(np.abs(np.diff(df_train[-100:], axis=0)), axis=0)\n",
      "/home/michel/code_python/mts/mlflow-minio-postgres/venv/lib/python3.11/site-packages/autots/evaluator/metrics.py:575: RuntimeWarning: All-NaN slice encountered\n",
      "  fill_val = np.nanmax(scaler)\n"
     ]
    },
    {
     "name": "stdout",
     "output_type": "stream",
     "text": [
      "Model Number: 58 with model Ensemble in generation 7 of Ensembles\n",
      "Model Number: 59 with model Ensemble in generation 7 of Ensembles\n",
      "Model Number: 60 with model Ensemble in generation 7 of Ensembles\n",
      "Model Number: 61 with model Ensemble in generation 7 of Ensembles\n",
      "Model Number: 62 with model Ensemble in generation 7 of Ensembles\n",
      "Model Number: 63 with model Ensemble in generation 7 of Ensembles\n",
      "Template Eval Error: ValueError('BestN failed, no component models available.') in model 63 in generation 7: Ensemble\n",
      "Validation Round: 1\n",
      "One or more series is 90% or more NaN in this train split\n",
      "One or more series is 90% or more NaN in this test split\n",
      "Model Number: 1 of 6 with model Ensemble for Validation 1\n"
     ]
    },
    {
     "name": "stderr",
     "output_type": "stream",
     "text": [
      "/home/michel/code_python/mts/mlflow-minio-postgres/venv/lib/python3.11/site-packages/numpy/lib/nanfunctions.py:1215: RuntimeWarning: Mean of empty slice\n",
      "  return np.nanmean(a, axis, out=out, keepdims=keepdims)\n",
      "/home/michel/code_python/mts/mlflow-minio-postgres/venv/lib/python3.11/site-packages/autots/evaluator/metrics.py:574: RuntimeWarning: Mean of empty slice\n",
      "  scaler = np.nanmean(np.abs(np.diff(df_train[-100:], axis=0)), axis=0)\n",
      "/home/michel/code_python/mts/mlflow-minio-postgres/venv/lib/python3.11/site-packages/autots/evaluator/metrics.py:575: RuntimeWarning: All-NaN slice encountered\n",
      "  fill_val = np.nanmax(scaler)\n"
     ]
    },
    {
     "name": "stdout",
     "output_type": "stream",
     "text": [
      "1 - Ensemble with avg smape nan: \n",
      "Model Number: 2 of 6 with model Ensemble for Validation 1\n",
      "2 - Ensemble with avg smape nan: \n",
      "Model Number: 3 of 6 with model Ensemble for Validation 1\n",
      "3 - Ensemble with avg smape nan: \n",
      "Model Number: 4 of 6 with model Ensemble for Validation 1\n",
      "4 - Ensemble with avg smape nan: \n",
      "Model Number: 5 of 6 with model Ensemble for Validation 1\n",
      "5 - Ensemble with avg smape nan: \n",
      "Model Number: 6 of 6 with model Ensemble for Validation 1\n",
      "Template Eval Error: ValueError('BestN failed, no component models available.') in model 6 in generation 0: Ensemble\n",
      "Validation Round: 2\n",
      "One or more series is 90% or more NaN in this train split\n",
      "One or more series is 90% or more NaN in this test split\n",
      "Model Number: 1 of 6 with model Ensemble for Validation 2\n"
     ]
    },
    {
     "name": "stderr",
     "output_type": "stream",
     "text": [
      "/home/michel/code_python/mts/mlflow-minio-postgres/venv/lib/python3.11/site-packages/numpy/lib/nanfunctions.py:1215: RuntimeWarning: Mean of empty slice\n",
      "  return np.nanmean(a, axis, out=out, keepdims=keepdims)\n",
      "/home/michel/code_python/mts/mlflow-minio-postgres/venv/lib/python3.11/site-packages/autots/evaluator/metrics.py:574: RuntimeWarning: Mean of empty slice\n",
      "  scaler = np.nanmean(np.abs(np.diff(df_train[-100:], axis=0)), axis=0)\n",
      "/home/michel/code_python/mts/mlflow-minio-postgres/venv/lib/python3.11/site-packages/autots/evaluator/metrics.py:575: RuntimeWarning: All-NaN slice encountered\n",
      "  fill_val = np.nanmax(scaler)\n"
     ]
    },
    {
     "name": "stdout",
     "output_type": "stream",
     "text": [
      "1 - Ensemble with avg smape nan: \n",
      "Model Number: 2 of 6 with model Ensemble for Validation 2\n",
      "2 - Ensemble with avg smape nan: \n",
      "Model Number: 3 of 6 with model Ensemble for Validation 2\n",
      "3 - Ensemble with avg smape nan: \n",
      "Model Number: 4 of 6 with model Ensemble for Validation 2\n",
      "4 - Ensemble with avg smape nan: \n",
      "Model Number: 5 of 6 with model Ensemble for Validation 2\n",
      "5 - Ensemble with avg smape nan: \n",
      "Model Number: 6 of 6 with model Ensemble for Validation 2\n",
      "Template Eval Error: ValueError('BestN failed, no component models available.') in model 6 in generation 0: Ensemble\n"
     ]
    },
    {
     "name": "stderr",
     "output_type": "stream",
     "text": [
      "/home/michel/code_python/mts/mlflow-minio-postgres/venv/lib/python3.11/site-packages/numpy/lib/nanfunctions.py:1215: RuntimeWarning: Mean of empty slice\n",
      "  return np.nanmean(a, axis, out=out, keepdims=keepdims)\n",
      "/home/michel/code_python/mts/mlflow-minio-postgres/venv/lib/python3.11/site-packages/numpy/lib/nanfunctions.py:1215: RuntimeWarning: Mean of empty slice\n",
      "  return np.nanmean(a, axis, out=out, keepdims=keepdims)\n",
      "/home/michel/code_python/mts/mlflow-minio-postgres/venv/lib/python3.11/site-packages/autots/evaluator/auto_model.py:2481: FutureWarning: The behavior of DataFrame.idxmin with all-NA values, or any-NA and skipna=False, is deprecated. In a future version this will raise ValueError\n",
      "  per_series.idxmin(axis=1).rename(\"lowest_series_mape_name\"),\n",
      "/home/michel/code_python/mts/mlflow-minio-postgres/venv/lib/python3.11/site-packages/autots/evaluator/auto_model.py:2483: FutureWarning: The behavior of DataFrame.idxmax with all-NA values, or any-NA and skipna=False, is deprecated. In a future version this will raise ValueError\n",
      "  per_series.idxmax(axis=1).rename(\"highest_series_mape_name\"),\n",
      "/home/michel/code_python/mts/mlflow-minio-postgres/venv/lib/python3.11/site-packages/numpy/lib/nanfunctions.py:1215: RuntimeWarning: Mean of empty slice\n",
      "  return np.nanmean(a, axis, out=out, keepdims=keepdims)\n",
      "/home/michel/code_python/mts/mlflow-minio-postgres/venv/lib/python3.11/site-packages/autots/evaluator/auto_model.py:2481: FutureWarning: The behavior of DataFrame.idxmin with all-NA values, or any-NA and skipna=False, is deprecated. In a future version this will raise ValueError\n",
      "  per_series.idxmin(axis=1).rename(\"lowest_series_mape_name\"),\n",
      "/home/michel/code_python/mts/mlflow-minio-postgres/venv/lib/python3.11/site-packages/autots/evaluator/auto_model.py:2483: FutureWarning: The behavior of DataFrame.idxmax with all-NA values, or any-NA and skipna=False, is deprecated. In a future version this will raise ValueError\n",
      "  per_series.idxmax(axis=1).rename(\"highest_series_mape_name\"),\n",
      "/home/michel/code_python/mts/mlflow-minio-postgres/venv/lib/python3.11/site-packages/numpy/lib/nanfunctions.py:1215: RuntimeWarning: Mean of empty slice\n",
      "  return np.nanmean(a, axis, out=out, keepdims=keepdims)\n"
     ]
    }
   ],
   "source": [
    "model = model.fit(dt, date_col='DEVISES', value_col='MIN EUR')"
   ]
  },
  {
   "cell_type": "code",
   "execution_count": 9,
   "metadata": {},
   "outputs": [
    {
     "data": {
      "text/plain": [
       "'Theta'"
      ]
     },
     "execution_count": 9,
     "metadata": {},
     "output_type": "execute_result"
    }
   ],
   "source": [
    "best_model=model.best_model_name\n",
    "best_model"
   ]
  },
  {
   "cell_type": "code",
   "execution_count": 21,
   "metadata": {},
   "outputs": [
    {
     "name": "stderr",
     "output_type": "stream",
     "text": [
      "2024/10/31 13:37:46 INFO mlflow.tracking._tracking_service.client: 🏃 View run treasured-rook-691 at: http://localhost:5000/#/experiments/3/runs/250cff9919d442a9b7cf1ca0b8a7b535.\n",
      "2024/10/31 13:37:46 INFO mlflow.tracking._tracking_service.client: 🧪 View experiment at: http://localhost:5000/#/experiments/3.\n"
     ]
    },
    {
     "ename": "AttributeError",
     "evalue": "'AutoTS' object has no attribute 'save'",
     "output_type": "error",
     "traceback": [
      "\u001b[0;31m---------------------------------------------------------------------------\u001b[0m",
      "\u001b[0;31mAttributeError\u001b[0m                            Traceback (most recent call last)",
      "Cell \u001b[0;32mIn[21], line 11\u001b[0m\n\u001b[1;32m      7\u001b[0m best_model\u001b[38;5;241m=\u001b[39mmodel\u001b[38;5;241m.\u001b[39mbest_model_name\n\u001b[1;32m      8\u001b[0m \u001b[38;5;66;03m# Use the model to make predictions on the test dataset.\u001b[39;00m\n\u001b[1;32m      9\u001b[0m \u001b[38;5;66;03m#predictions = rf.predict(X_test)\u001b[39;00m\n\u001b[0;32m---> 11\u001b[0m \u001b[43mmlflow\u001b[49m\u001b[38;5;241;43m.\u001b[39;49m\u001b[43mstatsmodels\u001b[49m\u001b[38;5;241;43m.\u001b[39;49m\u001b[43mlog_model\u001b[49m\u001b[43m(\u001b[49m\u001b[43mmodel\u001b[49m\u001b[43m,\u001b[49m\u001b[43m \u001b[49m\u001b[38;5;124;43m\"\u001b[39;49m\u001b[38;5;124;43mmodel\u001b[39;49m\u001b[38;5;124;43m\"\u001b[39;49m\u001b[43m)\u001b[49m\n",
      "File \u001b[0;32m~/code_python/mts/mlflow-minio-postgres/venv/lib/python3.11/site-packages/mlflow/statsmodels/__init__.py:260\u001b[0m, in \u001b[0;36mlog_model\u001b[0;34m(statsmodels_model, artifact_path, conda_env, code_paths, registered_model_name, remove_data, signature, input_example, await_registration_for, pip_requirements, extra_pip_requirements, metadata, **kwargs)\u001b[0m\n\u001b[1;32m    216\u001b[0m \u001b[38;5;129m@format_docstring\u001b[39m(LOG_MODEL_PARAM_DOCS\u001b[38;5;241m.\u001b[39mformat(package_name\u001b[38;5;241m=\u001b[39mFLAVOR_NAME))\n\u001b[1;32m    217\u001b[0m \u001b[38;5;28;01mdef\u001b[39;00m \u001b[38;5;21mlog_model\u001b[39m(\n\u001b[1;32m    218\u001b[0m     statsmodels_model,\n\u001b[0;32m   (...)\u001b[0m\n\u001b[1;32m    230\u001b[0m     \u001b[38;5;241m*\u001b[39m\u001b[38;5;241m*\u001b[39mkwargs,\n\u001b[1;32m    231\u001b[0m ):\n\u001b[1;32m    232\u001b[0m \u001b[38;5;250m    \u001b[39m\u001b[38;5;124;03m\"\"\"\u001b[39;00m\n\u001b[1;32m    233\u001b[0m \u001b[38;5;124;03m    Log a statsmodels model as an MLflow artifact for the current run.\u001b[39;00m\n\u001b[1;32m    234\u001b[0m \n\u001b[0;32m   (...)\u001b[0m\n\u001b[1;32m    258\u001b[0m \u001b[38;5;124;03m        of the logged model.\u001b[39;00m\n\u001b[1;32m    259\u001b[0m \u001b[38;5;124;03m    \"\"\"\u001b[39;00m\n\u001b[0;32m--> 260\u001b[0m     \u001b[38;5;28;01mreturn\u001b[39;00m \u001b[43mModel\u001b[49m\u001b[38;5;241;43m.\u001b[39;49m\u001b[43mlog\u001b[49m\u001b[43m(\u001b[49m\n\u001b[1;32m    261\u001b[0m \u001b[43m        \u001b[49m\u001b[43martifact_path\u001b[49m\u001b[38;5;241;43m=\u001b[39;49m\u001b[43martifact_path\u001b[49m\u001b[43m,\u001b[49m\n\u001b[1;32m    262\u001b[0m \u001b[43m        \u001b[49m\u001b[43mflavor\u001b[49m\u001b[38;5;241;43m=\u001b[39;49m\u001b[43mmlflow\u001b[49m\u001b[38;5;241;43m.\u001b[39;49m\u001b[43mstatsmodels\u001b[49m\u001b[43m,\u001b[49m\n\u001b[1;32m    263\u001b[0m \u001b[43m        \u001b[49m\u001b[43mregistered_model_name\u001b[49m\u001b[38;5;241;43m=\u001b[39;49m\u001b[43mregistered_model_name\u001b[49m\u001b[43m,\u001b[49m\n\u001b[1;32m    264\u001b[0m \u001b[43m        \u001b[49m\u001b[43mstatsmodels_model\u001b[49m\u001b[38;5;241;43m=\u001b[39;49m\u001b[43mstatsmodels_model\u001b[49m\u001b[43m,\u001b[49m\n\u001b[1;32m    265\u001b[0m \u001b[43m        \u001b[49m\u001b[43mconda_env\u001b[49m\u001b[38;5;241;43m=\u001b[39;49m\u001b[43mconda_env\u001b[49m\u001b[43m,\u001b[49m\n\u001b[1;32m    266\u001b[0m \u001b[43m        \u001b[49m\u001b[43mcode_paths\u001b[49m\u001b[38;5;241;43m=\u001b[39;49m\u001b[43mcode_paths\u001b[49m\u001b[43m,\u001b[49m\n\u001b[1;32m    267\u001b[0m \u001b[43m        \u001b[49m\u001b[43msignature\u001b[49m\u001b[38;5;241;43m=\u001b[39;49m\u001b[43msignature\u001b[49m\u001b[43m,\u001b[49m\n\u001b[1;32m    268\u001b[0m \u001b[43m        \u001b[49m\u001b[43minput_example\u001b[49m\u001b[38;5;241;43m=\u001b[39;49m\u001b[43minput_example\u001b[49m\u001b[43m,\u001b[49m\n\u001b[1;32m    269\u001b[0m \u001b[43m        \u001b[49m\u001b[43mawait_registration_for\u001b[49m\u001b[38;5;241;43m=\u001b[39;49m\u001b[43mawait_registration_for\u001b[49m\u001b[43m,\u001b[49m\n\u001b[1;32m    270\u001b[0m \u001b[43m        \u001b[49m\u001b[43mremove_data\u001b[49m\u001b[38;5;241;43m=\u001b[39;49m\u001b[43mremove_data\u001b[49m\u001b[43m,\u001b[49m\n\u001b[1;32m    271\u001b[0m \u001b[43m        \u001b[49m\u001b[43mpip_requirements\u001b[49m\u001b[38;5;241;43m=\u001b[39;49m\u001b[43mpip_requirements\u001b[49m\u001b[43m,\u001b[49m\n\u001b[1;32m    272\u001b[0m \u001b[43m        \u001b[49m\u001b[43mextra_pip_requirements\u001b[49m\u001b[38;5;241;43m=\u001b[39;49m\u001b[43mextra_pip_requirements\u001b[49m\u001b[43m,\u001b[49m\n\u001b[1;32m    273\u001b[0m \u001b[43m        \u001b[49m\u001b[43mmetadata\u001b[49m\u001b[38;5;241;43m=\u001b[39;49m\u001b[43mmetadata\u001b[49m\u001b[43m,\u001b[49m\n\u001b[1;32m    274\u001b[0m \u001b[43m        \u001b[49m\u001b[38;5;241;43m*\u001b[39;49m\u001b[38;5;241;43m*\u001b[39;49m\u001b[43mkwargs\u001b[49m\u001b[43m,\u001b[49m\n\u001b[1;32m    275\u001b[0m \u001b[43m    \u001b[49m\u001b[43m)\u001b[49m\n",
      "File \u001b[0;32m~/code_python/mts/mlflow-minio-postgres/venv/lib/python3.11/site-packages/mlflow/models/model.py:725\u001b[0m, in \u001b[0;36mModel.log\u001b[0;34m(cls, artifact_path, flavor, registered_model_name, await_registration_for, metadata, run_id, resources, **kwargs)\u001b[0m\n\u001b[1;32m    721\u001b[0m     run_id \u001b[38;5;241m=\u001b[39m mlflow\u001b[38;5;241m.\u001b[39mtracking\u001b[38;5;241m.\u001b[39mfluent\u001b[38;5;241m.\u001b[39m_get_or_start_run()\u001b[38;5;241m.\u001b[39minfo\u001b[38;5;241m.\u001b[39mrun_id\n\u001b[1;32m    722\u001b[0m mlflow_model \u001b[38;5;241m=\u001b[39m \u001b[38;5;28mcls\u001b[39m(\n\u001b[1;32m    723\u001b[0m     artifact_path\u001b[38;5;241m=\u001b[39martifact_path, run_id\u001b[38;5;241m=\u001b[39mrun_id, metadata\u001b[38;5;241m=\u001b[39mmetadata, resources\u001b[38;5;241m=\u001b[39mresources\n\u001b[1;32m    724\u001b[0m )\n\u001b[0;32m--> 725\u001b[0m \u001b[43mflavor\u001b[49m\u001b[38;5;241;43m.\u001b[39;49m\u001b[43msave_model\u001b[49m\u001b[43m(\u001b[49m\u001b[43mpath\u001b[49m\u001b[38;5;241;43m=\u001b[39;49m\u001b[43mlocal_path\u001b[49m\u001b[43m,\u001b[49m\u001b[43m \u001b[49m\u001b[43mmlflow_model\u001b[49m\u001b[38;5;241;43m=\u001b[39;49m\u001b[43mmlflow_model\u001b[49m\u001b[43m,\u001b[49m\u001b[43m \u001b[49m\u001b[38;5;241;43m*\u001b[39;49m\u001b[38;5;241;43m*\u001b[39;49m\u001b[43mkwargs\u001b[49m\u001b[43m)\u001b[49m\n\u001b[1;32m    726\u001b[0m \u001b[38;5;66;03m# `save_model` calls `load_model` to infer the model requirements, which may result in\u001b[39;00m\n\u001b[1;32m    727\u001b[0m \u001b[38;5;66;03m# __pycache__ directories being created in the model directory.\u001b[39;00m\n\u001b[1;32m    728\u001b[0m \u001b[38;5;28;01mfor\u001b[39;00m pycache \u001b[38;5;129;01min\u001b[39;00m Path(local_path)\u001b[38;5;241m.\u001b[39mrglob(\u001b[38;5;124m\"\u001b[39m\u001b[38;5;124m__pycache__\u001b[39m\u001b[38;5;124m\"\u001b[39m):\n",
      "File \u001b[0;32m~/code_python/mts/mlflow-minio-postgres/venv/lib/python3.11/site-packages/mlflow/statsmodels/__init__.py:151\u001b[0m, in \u001b[0;36msave_model\u001b[0;34m(statsmodels_model, path, conda_env, code_paths, mlflow_model, remove_data, signature, input_example, pip_requirements, extra_pip_requirements, metadata)\u001b[0m\n\u001b[1;32m    148\u001b[0m     mlflow_model\u001b[38;5;241m.\u001b[39mmetadata \u001b[38;5;241m=\u001b[39m metadata\n\u001b[1;32m    150\u001b[0m \u001b[38;5;66;03m# Save a statsmodels model\u001b[39;00m\n\u001b[0;32m--> 151\u001b[0m \u001b[43mstatsmodels_model\u001b[49m\u001b[38;5;241;43m.\u001b[39;49m\u001b[43msave\u001b[49m(model_data_path, remove_data)\n\u001b[1;32m    152\u001b[0m \u001b[38;5;28;01mif\u001b[39;00m _save_model_called_from_autolog \u001b[38;5;129;01mand\u001b[39;00m \u001b[38;5;129;01mnot\u001b[39;00m remove_data:\n\u001b[1;32m    153\u001b[0m     saved_model_size \u001b[38;5;241m=\u001b[39m os\u001b[38;5;241m.\u001b[39mpath\u001b[38;5;241m.\u001b[39mgetsize(model_data_path)\n",
      "\u001b[0;31mAttributeError\u001b[0m: 'AutoTS' object has no attribute 'save'"
     ]
    }
   ],
   "source": [
    "mlflow.set_tracking_uri(\"http://localhost:5000\")\n",
    "mlflow.set_experiment(f\"/user/test\")\n",
    "\n",
    "with mlflow.start_run() as run:\n",
    "    # Load the diabetes dataset.\n",
    "    \n",
    "    best_model=model.best_model_name\n",
    "    # Use the model to make predictions on the test dataset.\n",
    "    #predictions = rf.predict(X_test)\n",
    "\n",
    "    mlflow.statsmodels.log_model(model, \"model\")\n"
   ]
  },
  {
   "cell_type": "code",
   "execution_count": 1,
   "metadata": {},
   "outputs": [
    {
     "ename": "NameError",
     "evalue": "name 'model' is not defined",
     "output_type": "error",
     "traceback": [
      "\u001b[0;31m---------------------------------------------------------------------------\u001b[0m",
      "\u001b[0;31mNameError\u001b[0m                                 Traceback (most recent call last)",
      "Cell \u001b[0;32mIn[1], line 1\u001b[0m\n\u001b[0;32m----> 1\u001b[0m \u001b[38;5;28mprint\u001b[39m(\u001b[43mmodel\u001b[49m)\n",
      "\u001b[0;31mNameError\u001b[0m: name 'model' is not defined"
     ]
    }
   ],
   "source": [
    "print(model)"
   ]
  },
  {
   "cell_type": "code",
   "execution_count": 23,
   "metadata": {},
   "outputs": [],
   "source": [
    "best_model=model.best_model_name"
   ]
  },
  {
   "cell_type": "code",
   "execution_count": 24,
   "metadata": {},
   "outputs": [
    {
     "data": {
      "text/plain": [
       "'Theta'"
      ]
     },
     "execution_count": 24,
     "metadata": {},
     "output_type": "execute_result"
    }
   ],
   "source": [
    "best_model"
   ]
  },
  {
   "cell_type": "code",
   "execution_count": 10,
   "metadata": {},
   "outputs": [
    {
     "data": {
      "text/plain": [
       "{'ConstantNaive': 1,\n",
       " 'LastValueNaive': 1,\n",
       " 'AverageValueNaive': 1,\n",
       " 'GLS': 1,\n",
       " 'SeasonalNaive': 1,\n",
       " 'GLM': 1,\n",
       " 'ETS': 1,\n",
       " 'FBProphet': 0.5,\n",
       " 'UnobservedComponents': 0.6,\n",
       " 'VAR': 1,\n",
       " 'VECM': 1,\n",
       " 'ARIMA': 0.3,\n",
       " 'WindowRegression': 0.8,\n",
       " 'DatepartRegression': 1,\n",
       " 'MultivariateRegression': 0.4,\n",
       " 'UnivariateMotif': 1,\n",
       " 'MultivariateMotif': 1,\n",
       " 'SectionalMotif': 1,\n",
       " 'NVAR': 0.4,\n",
       " 'Theta': 1,\n",
       " 'ARDL': 1,\n",
       " 'ARCH': 1,\n",
       " 'MetricMotif': 1,\n",
       " 'SeasonalityMotif': 1,\n",
       " 'DMD': 0.3,\n",
       " 'RRVAR': 0.8,\n",
       " 'FFT': 0.8,\n",
       " 'Cassandra': 0.8}"
      ]
     },
     "execution_count": 10,
     "metadata": {},
     "output_type": "execute_result"
    },
    {
     "ename": "",
     "evalue": "",
     "output_type": "error",
     "traceback": [
      "\u001b[1;31mThe Kernel crashed while executing code in the current cell or a previous cell. \n",
      "\u001b[1;31mPlease review the code in the cell(s) to identify a possible cause of the failure. \n",
      "\u001b[1;31mClick <a href='https://aka.ms/vscodeJupyterKernelCrash'>here</a> for more info. \n",
      "\u001b[1;31mView Jupyter <a href='command:jupyter.viewOutput'>log</a> for further details."
     ]
    }
   ],
   "source": [
    "model.model_list"
   ]
  },
  {
   "cell_type": "code",
   "execution_count": 20,
   "metadata": {},
   "outputs": [],
   "source": [
    "prediction = model.predict()\n"
   ]
  },
  {
   "cell_type": "code",
   "execution_count": null,
   "metadata": {},
   "outputs": [],
   "source": []
  },
  {
   "cell_type": "code",
   "execution_count": 21,
   "metadata": {},
   "outputs": [
    {
     "data": {
      "text/plain": [
       "Prediction object: \n",
       "Return .forecast, \n",
       " .upper_forecast, \n",
       " .lower_forecast \n",
       " .model_parameters \n",
       " .transformation_parameters"
      ]
     },
     "execution_count": 21,
     "metadata": {},
     "output_type": "execute_result"
    }
   ],
   "source": [
    "prediction"
   ]
  },
  {
   "cell_type": "code",
   "execution_count": 27,
   "metadata": {},
   "outputs": [
    {
     "data": {
      "text/plain": [
       "{'fillna': 'mean',\n",
       " 'transformations': {'0': 'Detrend'},\n",
       " 'transformation_params': {'0': {'model': 'Linear', 'phi': 1, 'window': 90}}}"
      ]
     },
     "execution_count": 27,
     "metadata": {},
     "output_type": "execute_result"
    }
   ],
   "source": [
    "prediction.transformation_parameters"
   ]
  },
  {
   "cell_type": "code",
   "execution_count": 42,
   "metadata": {},
   "outputs": [],
   "source": [
    "from sktime.datasets import load_airline\n",
    "import pandas as pd\n",
    "from sktime.forecasting.fbprophet import Prophet"
   ]
  },
  {
   "cell_type": "code",
   "execution_count": 43,
   "metadata": {},
   "outputs": [],
   "source": [
    "y = load_airline().to_timestamp(freq='M')"
   ]
  },
  {
   "cell_type": "code",
   "execution_count": 44,
   "metadata": {},
   "outputs": [
    {
     "name": "stdout",
     "output_type": "stream",
     "text": [
      "<class 'pandas.core.series.Series'>\n",
      "DatetimeIndex: 144 entries, 1949-01-31 to 1960-12-31\n",
      "Freq: M\n",
      "Series name: Number of airline passengers\n",
      "Non-Null Count  Dtype  \n",
      "--------------  -----  \n",
      "144 non-null    float64\n",
      "dtypes: float64(1)\n",
      "memory usage: 2.2 KB\n"
     ]
    }
   ],
   "source": [
    "y.info()"
   ]
  },
  {
   "cell_type": "code",
   "execution_count": 69,
   "metadata": {},
   "outputs": [],
   "source": [
    "x=len(y)"
   ]
  },
  {
   "cell_type": "code",
   "execution_count": null,
   "metadata": {},
   "outputs": [],
   "source": [
    "x="
   ]
  },
  {
   "cell_type": "code",
   "execution_count": 62,
   "metadata": {},
   "outputs": [],
   "source": [
    "forecaster = Prophet(  \n",
    "\n",
    "    seasonality_mode='multiplicative',\n",
    "\n",
    "    n_changepoints=int(len(y) / 12),\n",
    "\n",
    "    add_country_holidays={'country_name': 'Germany'},\n",
    "\n",
    "    yearly_seasonality=True)"
   ]
  },
  {
   "cell_type": "code",
   "execution_count": 63,
   "metadata": {},
   "outputs": [
    {
     "name": "stderr",
     "output_type": "stream",
     "text": [
      "09:33:52 - cmdstanpy - INFO - Chain [1] start processing\n",
      "09:33:52 - cmdstanpy - INFO - Chain [1] done processing\n"
     ]
    },
    {
     "data": {
      "text/html": [
       "<style>#sk-a1640c5a-99f9-4d7b-aaec-0ac2f647302e {color: black;background-color: white;}#sk-a1640c5a-99f9-4d7b-aaec-0ac2f647302e pre{padding: 0;}#sk-a1640c5a-99f9-4d7b-aaec-0ac2f647302e div.sk-toggleable {background-color: white;}#sk-a1640c5a-99f9-4d7b-aaec-0ac2f647302e label.sk-toggleable__label {cursor: pointer;display: block;width: 100%;margin-bottom: 0;padding: 0.3em;box-sizing: border-box;text-align: center;}#sk-a1640c5a-99f9-4d7b-aaec-0ac2f647302e label.sk-toggleable__label-arrow:before {content: \"▸\";float: left;margin-right: 0.25em;color: #696969;}#sk-a1640c5a-99f9-4d7b-aaec-0ac2f647302e label.sk-toggleable__label-arrow:hover:before {color: black;}#sk-a1640c5a-99f9-4d7b-aaec-0ac2f647302e div.sk-estimator:hover label.sk-toggleable__label-arrow:before {color: black;}#sk-a1640c5a-99f9-4d7b-aaec-0ac2f647302e div.sk-toggleable__content {max-height: 0;max-width: 0;overflow: hidden;text-align: left;background-color: #f0f8ff;}#sk-a1640c5a-99f9-4d7b-aaec-0ac2f647302e div.sk-toggleable__content pre {margin: 0.2em;color: black;border-radius: 0.25em;background-color: #f0f8ff;}#sk-a1640c5a-99f9-4d7b-aaec-0ac2f647302e input.sk-toggleable__control:checked~div.sk-toggleable__content {max-height: 200px;max-width: 100%;overflow: auto;}#sk-a1640c5a-99f9-4d7b-aaec-0ac2f647302e input.sk-toggleable__control:checked~label.sk-toggleable__label-arrow:before {content: \"▾\";}#sk-a1640c5a-99f9-4d7b-aaec-0ac2f647302e div.sk-estimator input.sk-toggleable__control:checked~label.sk-toggleable__label {background-color: #d4ebff;}#sk-a1640c5a-99f9-4d7b-aaec-0ac2f647302e div.sk-label input.sk-toggleable__control:checked~label.sk-toggleable__label {background-color: #d4ebff;}#sk-a1640c5a-99f9-4d7b-aaec-0ac2f647302e input.sk-hidden--visually {border: 0;clip: rect(1px 1px 1px 1px);clip: rect(1px, 1px, 1px, 1px);height: 1px;margin: -1px;overflow: hidden;padding: 0;position: absolute;width: 1px;}#sk-a1640c5a-99f9-4d7b-aaec-0ac2f647302e div.sk-estimator {font-family: monospace;background-color: #f0f8ff;border: 1px dotted black;border-radius: 0.25em;box-sizing: border-box;margin-bottom: 0.5em;}#sk-a1640c5a-99f9-4d7b-aaec-0ac2f647302e div.sk-estimator:hover {background-color: #d4ebff;}#sk-a1640c5a-99f9-4d7b-aaec-0ac2f647302e div.sk-parallel-item::after {content: \"\";width: 100%;border-bottom: 1px solid gray;flex-grow: 1;}#sk-a1640c5a-99f9-4d7b-aaec-0ac2f647302e div.sk-label:hover label.sk-toggleable__label {background-color: #d4ebff;}#sk-a1640c5a-99f9-4d7b-aaec-0ac2f647302e div.sk-serial::before {content: \"\";position: absolute;border-left: 1px solid gray;box-sizing: border-box;top: 2em;bottom: 0;left: 50%;}#sk-a1640c5a-99f9-4d7b-aaec-0ac2f647302e div.sk-serial {display: flex;flex-direction: column;align-items: center;background-color: white;padding-right: 0.2em;padding-left: 0.2em;}#sk-a1640c5a-99f9-4d7b-aaec-0ac2f647302e div.sk-item {z-index: 1;}#sk-a1640c5a-99f9-4d7b-aaec-0ac2f647302e div.sk-parallel {display: flex;align-items: stretch;justify-content: center;background-color: white;}#sk-a1640c5a-99f9-4d7b-aaec-0ac2f647302e div.sk-parallel::before {content: \"\";position: absolute;border-left: 1px solid gray;box-sizing: border-box;top: 2em;bottom: 0;left: 50%;}#sk-a1640c5a-99f9-4d7b-aaec-0ac2f647302e div.sk-parallel-item {display: flex;flex-direction: column;position: relative;background-color: white;}#sk-a1640c5a-99f9-4d7b-aaec-0ac2f647302e div.sk-parallel-item:first-child::after {align-self: flex-end;width: 50%;}#sk-a1640c5a-99f9-4d7b-aaec-0ac2f647302e div.sk-parallel-item:last-child::after {align-self: flex-start;width: 50%;}#sk-a1640c5a-99f9-4d7b-aaec-0ac2f647302e div.sk-parallel-item:only-child::after {width: 0;}#sk-a1640c5a-99f9-4d7b-aaec-0ac2f647302e div.sk-dashed-wrapped {border: 1px dashed gray;margin: 0 0.4em 0.5em 0.4em;box-sizing: border-box;padding-bottom: 0.4em;background-color: white;position: relative;}#sk-a1640c5a-99f9-4d7b-aaec-0ac2f647302e div.sk-label label {font-family: monospace;font-weight: bold;background-color: white;display: inline-block;line-height: 1.2em;}#sk-a1640c5a-99f9-4d7b-aaec-0ac2f647302e div.sk-label-container {position: relative;z-index: 2;text-align: center;}#sk-a1640c5a-99f9-4d7b-aaec-0ac2f647302e div.sk-container {/* jupyter's `normalize.less` sets `[hidden] { display: none; }` but bootstrap.min.css set `[hidden] { display: none !important; }` so we also need the `!important` here to be able to override the default hidden behavior on the sphinx rendered scikit-learn.org. See: https://github.com/scikit-learn/scikit-learn/issues/21755 */display: inline-block !important;position: relative;}#sk-a1640c5a-99f9-4d7b-aaec-0ac2f647302e div.sk-text-repr-fallback {display: none;}</style><div id='sk-a1640c5a-99f9-4d7b-aaec-0ac2f647302e' class=\"sk-top-container\"><div class=\"sk-text-repr-fallback\"><pre>Prophet(add_country_holidays={&#x27;country_name&#x27;: &#x27;Germany&#x27;}, n_changepoints=12,\n",
       "        seasonality_mode=&#x27;multiplicative&#x27;, yearly_seasonality=True)</pre><b>Please rerun this cell to show the HTML repr or trust the notebook.</b></div><div class=\"sk-container\" hidden><div class='sk-item'><div class=\"sk-estimator sk-toggleable\"><input class=\"sk-toggleable__control sk-hidden--visually\" id=UUID('197c55ef-6ba8-4b87-af3c-321022c50fd8') type=\"checkbox\" checked><label for=UUID('197c55ef-6ba8-4b87-af3c-321022c50fd8') class='sk-toggleable__label sk-toggleable__label-arrow'>Prophet</label><div class=\"sk-toggleable__content\"><pre>Prophet(add_country_holidays={&#x27;country_name&#x27;: &#x27;Germany&#x27;}, n_changepoints=12,\n",
       "        seasonality_mode=&#x27;multiplicative&#x27;, yearly_seasonality=True)</pre></div></div></div></div></div>"
      ],
      "text/plain": [
       "Prophet(add_country_holidays={'country_name': 'Germany'}, n_changepoints=12,\n",
       "        seasonality_mode='multiplicative', yearly_seasonality=True)"
      ]
     },
     "execution_count": 63,
     "metadata": {},
     "output_type": "execute_result"
    }
   ],
   "source": [
    "forecaster.fit(y) "
   ]
  },
  {
   "cell_type": "code",
   "execution_count": 64,
   "metadata": {},
   "outputs": [],
   "source": [
    "my_list = list(range(1, 101))"
   ]
  },
  {
   "cell_type": "code",
   "execution_count": 65,
   "metadata": {},
   "outputs": [],
   "source": [
    "y_pred = forecaster.predict(fh=my_list)"
   ]
  },
  {
   "cell_type": "code",
   "execution_count": 67,
   "metadata": {},
   "outputs": [
    {
     "data": {
      "text/plain": [
       "1961-01-31    447.506448\n",
       "1961-02-28    434.083666\n",
       "1961-03-31    491.428372\n",
       "1961-04-30    494.616029\n",
       "1961-05-31    503.752697\n",
       "                 ...    \n",
       "1968-12-31    734.463672\n",
       "1969-01-31    753.573200\n",
       "1969-02-28    729.036992\n",
       "1969-03-31    822.956653\n",
       "1969-04-30    825.999511\n",
       "Name: Number of airline passengers, Length: 100, dtype: float64"
      ]
     },
     "execution_count": 67,
     "metadata": {},
     "output_type": "execute_result"
    }
   ],
   "source": [
    "y_pred"
   ]
  },
  {
   "cell_type": "code",
   "execution_count": 68,
   "metadata": {},
   "outputs": [],
   "source": [
    "from sktime.performance_metrics.forecasting import     mean_absolute_percentage_error"
   ]
  },
  {
   "cell_type": "code",
   "execution_count": null,
   "metadata": {},
   "outputs": [],
   "source": [
    "mean_absolute_percentage_error(y_true, y_pred, symmetric=False)"
   ]
  },
  {
   "cell_type": "code",
   "execution_count": 7,
   "metadata": {},
   "outputs": [
    {
     "name": "stderr",
     "output_type": "stream",
     "text": [
      "2024/10/30 14:33:26 WARNING mlflow.models.model: Model logged without a signature and input example. Please set `input_example` parameter when logging the model to auto infer the model signature.\n",
      "2024/10/30 14:33:27 INFO mlflow.tracking._tracking_service.client: 🏃 View run victorious-toad-966 at: http://localhost:5000/#/experiments/3/runs/36a093c3f1364caebf76d5a7eb7820a8.\n",
      "2024/10/30 14:33:27 INFO mlflow.tracking._tracking_service.client: 🧪 View experiment at: http://localhost:5000/#/experiments/3.\n"
     ]
    }
   ],
   "source": [
    "from sklearn.datasets import load_iris\n",
    "from sklearn.neighbors import KNeighborsClassifier\n",
    "from pathlib import Path\n",
    "import mlflow.sklearn\n",
    "\n",
    "mlflow.set_tracking_uri(\"http://localhost:5000\")\n",
    "mlflow.set_experiment(f\"/user/test\")\n",
    "\n",
    "iris = load_iris()\n",
    "X_train = iris.data[:, :4]\n",
    "Y_train = iris.target\n",
    "\n",
    "with mlflow.start_run() as run:\n",
    "    \n",
    "    model = KNeighborsClassifier()\n",
    "    model.fit(X_train, Y_train)\n",
    "    mlflow.sklearn.log_model(model,\"model\")"
   ]
  },
  {
   "cell_type": "code",
   "execution_count": null,
   "metadata": {},
   "outputs": [],
   "source": []
  },
  {
   "cell_type": "code",
   "execution_count": 2,
   "metadata": {},
   "outputs": [],
   "source": [
    "from autots.models.model_list import model_lists"
   ]
  },
  {
   "cell_type": "code",
   "execution_count": 3,
   "metadata": {},
   "outputs": [
    {
     "name": "stdout",
     "output_type": "stream",
     "text": [
      "{'all': ['ConstantNaive', 'LastValueNaive', 'AverageValueNaive', 'GLS', 'GLM', 'ETS', 'ARIMA', 'FBProphet', 'RollingRegression', 'GluonTS', 'SeasonalNaive', 'UnobservedComponents', 'VECM', 'DynamicFactor', 'MotifSimulation', 'WindowRegression', 'VAR', 'DatepartRegression', 'UnivariateRegression', 'UnivariateMotif', 'MultivariateMotif', 'NVAR', 'MultivariateRegression', 'SectionalMotif', 'Theta', 'ARDL', 'NeuralProphet', 'DynamicFactorMQ', 'PytorchForecasting', 'ARCH', 'RRVAR', 'MAR', 'TMF', 'LATC', 'KalmanStateSpace', 'MetricMotif', 'Cassandra', 'SeasonalityMotif', 'MLEnsemble', 'PreprocessingRegression', 'FFT', 'BallTreeMultivariateMotif', 'TiDE', 'NeuralForecast', 'DMD'], 'default': {'ConstantNaive': 1, 'LastValueNaive': 1, 'AverageValueNaive': 1, 'GLS': 1, 'SeasonalNaive': 1, 'GLM': 1, 'ETS': 1, 'FBProphet': 0.5, 'UnobservedComponents': 0.6, 'VAR': 1, 'VECM': 1, 'ARIMA': 0.3, 'WindowRegression': 0.8, 'DatepartRegression': 1, 'MultivariateRegression': 0.4, 'UnivariateMotif': 1, 'MultivariateMotif': 1, 'SectionalMotif': 1, 'NVAR': 0.4, 'Theta': 1, 'ARDL': 1, 'ARCH': 1, 'MetricMotif': 1, 'SeasonalityMotif': 1, 'DMD': 0.3, 'RRVAR': 0.8, 'FFT': 0.8, 'Cassandra': 0.8}, 'fast': {'ConstantNaive': 1, 'LastValueNaive': 1.5, 'AverageValueNaive': 1, 'GLS': 1, 'SeasonalNaive': 1, 'GLM': 1, 'ETS': 1, 'VAR': 0.8, 'VECM': 0.8, 'WindowRegression': 0.5, 'DatepartRegression': 0.8, 'UnivariateMotif': 1, 'SectionalMotif': 1, 'NVAR': 0.3, 'MAR': 0.25, 'RRVAR': 0.4, 'KalmanStateSpace': 0.4, 'MetricMotif': 1, 'Cassandra': 0.6, 'SeasonalityMotif': 1.5, 'FFT': 0.8, 'BallTreeMultivariateMotif': 0.4}, 'superfast': ['ConstantNaive', 'LastValueNaive', 'AverageValueNaive', 'GLS', 'SeasonalNaive', 'SeasonalityMotif', 'SectionalMotif'], 'parallel': {'ETS': 1, 'FBProphet': 0.8, 'ARIMA': 0.2, 'GLM': 1, 'UnobservedComponents': 1, 'UnivariateMotif': 1, 'MultivariateMotif': 1, 'Theta': 1, 'ARDL': 1, 'ARCH': 1}, 'fast_parallel': {'ETS': 1, 'FBProphet': 0.8, 'ARIMA': 0.2, 'GLM': 1, 'UnobservedComponents': 1, 'UnivariateMotif': 1, 'MultivariateMotif': 1, 'Theta': 1, 'ARDL': 1, 'ARCH': 1, 'ConstantNaive': 1, 'LastValueNaive': 1.5, 'AverageValueNaive': 1, 'GLS': 1, 'SeasonalNaive': 1, 'VAR': 0.8, 'VECM': 0.8, 'WindowRegression': 0.5, 'DatepartRegression': 0.8, 'SectionalMotif': 1, 'NVAR': 0.3, 'MAR': 0.25, 'RRVAR': 0.4, 'KalmanStateSpace': 0.4, 'MetricMotif': 1, 'Cassandra': 0.6, 'SeasonalityMotif': 1.5, 'FFT': 0.8, 'BallTreeMultivariateMotif': 0.4}, 'fast_parallel_no_arima': {'ETS': 1, 'FBProphet': 0.8, 'GLM': 1, 'UnivariateMotif': 1, 'ARDL': 1, 'ARCH': 1, 'ConstantNaive': 1, 'LastValueNaive': 1.5, 'AverageValueNaive': 1, 'GLS': 1, 'SeasonalNaive': 1, 'VAR': 0.8, 'WindowRegression': 0.5, 'DatepartRegression': 0.8, 'SectionalMotif': 1, 'RRVAR': 0.4, 'MetricMotif': 1, 'Cassandra': 0.6, 'SeasonalityMotif': 1.5, 'FFT': 0.8}, 'scalable': {'ETS': 1, 'FBProphet': 0.8, 'GLM': 1, 'UnivariateMotif': 1, 'ARDL': 1, 'ARCH': 1, 'ConstantNaive': 1, 'LastValueNaive': 1.5, 'AverageValueNaive': 1, 'GLS': 1, 'SeasonalNaive': 1, 'VAR': 0.8, 'WindowRegression': 0.5, 'DatepartRegression': 0.8, 'SectionalMotif': 1, 'RRVAR': 0.4, 'MetricMotif': 1, 'Cassandra': 0.6, 'SeasonalityMotif': 1.5, 'FFT': 0.8}, 'probabilistic': ['ARIMA', 'GluonTS', 'FBProphet', 'AverageValueNaive', 'DynamicFactor', 'VAR', 'UnivariateMotif', 'MultivariateMotif', 'SectionalMotif', 'NVAR', 'Theta', 'ARDL', 'UnobservedComponents', 'DynamicFactorMQ', 'PytorchForecasting', 'ARCH', 'KalmanStateSpace', 'MetricMotif', 'Cassandra', 'SeasonalityMotif', 'NeuralForecast'], 'multivariate': ['VECM', 'DynamicFactor', 'GluonTS', 'RollingRegression', 'WindowRegression', 'VAR', 'MultivariateMotif', 'NVAR', 'MultivariateRegression', 'SectionalMotif', 'DynamicFactorMQ', 'PytorchForecasting', 'RRVAR', 'MAR', 'TMF', 'LATC', 'Cassandra', 'BallTreeMultivariateMotif', 'TiDE', 'NeuralForecast', 'DMD'], 'univariate': ['ARCH', 'AverageValueNaive', 'PreprocessingRegression', 'DatepartRegression', 'NeuralProphet', 'KalmanStateSpace', 'Theta', 'UnivariateMotif', 'UnivariateRegression', 'MetricMotif', 'SeasonalNaive', 'GLS', 'ETS', 'GLM', 'FFT', 'ConstantNaive', 'ARIMA', 'LastValueNaive', 'ARDL', 'SeasonalityMotif', 'FBProphet', 'UnobservedComponents', 'MLEnsemble'], 'no_params': ['LastValueNaive', 'GLS'], 'recombination_approved': ['SeasonalNaive', 'MotifSimulation', 'ETS', 'DynamicFactor', 'VECM', 'VARMAX', 'GLM', 'ARIMA', 'FBProphet', 'GluonTS', 'RollingRegression', 'VAR', 'TensorflowSTS', 'TFPRegression', 'UnivariateRegression', 'Greykite', 'UnivariateMotif', 'MultivariateMotif', 'NVAR', 'MultivariateRegression', 'SectionalMotif', 'Theta', 'ARDL', 'NeuralProphet', 'DynamicFactorMQ', 'PytorchForecasting', 'ARCH', 'RRVAR', 'MAR', 'TMF', 'LATC', 'MetricMotif', 'Cassandra', 'SeasonalityMotif', 'PreprocessingRegression', 'FFT', 'BallTreeMultivariateMotif', 'TiDE', 'DMD'], 'no_shared': ['ConstantNaive', 'LastValueNaive', 'AverageValueNaive', 'GLM', 'ETS', 'ARIMA', 'FBProphet', 'SeasonalNaive', 'UnobservedComponents', 'TensorflowSTS', 'GLS', 'UnivariateRegression', 'Greykite', 'UnivariateMotif', 'Theta', 'ARDL', 'NeuralProphet', 'ARCH', 'KalmanStateSpace', 'MetricMotif', 'SeasonalityMotif', 'FFT'], 'no_shared_fast': ['MetricMotif', 'ARCH', 'AverageValueNaive', 'SeasonalNaive', 'GLS', 'ETS', 'GLM', 'FFT', 'ConstantNaive', 'ARDL', 'LastValueNaive', 'SeasonalityMotif', 'FBProphet', 'UnivariateMotif'], 'experimental': ['MotifSimulation', 'TensorflowSTS', 'ComponentAnalysis', 'TFPRegression'], 'slow': ['ARCH', 'NeuralForecast', 'DynamicFactorMQ', 'PreprocessingRegression', 'DynamicFactor', 'NeuralProphet', 'LATC', 'DMD', 'Theta', 'UnivariateRegression', 'GluonTS', 'MultivariateRegression', 'PytorchForecasting', 'TiDE', 'TMF', 'ARIMA', 'ARDL', 'MultivariateMotif', 'FBProphet', 'RollingRegression', 'UnobservedComponents', 'MLEnsemble'], 'gpu': ['GluonTS', 'WindowRegression', 'PytorchForecasting', 'TiDE', 'NeuralForecast', 'NeuralProphet'], 'regressor': ['GLM', 'ARIMA', 'FBProphet', 'RollingRegression', 'UnobservedComponents', 'VECM', 'DynamicFactor', 'WindowRegression', 'VAR', 'DatepartRegression', 'GluonTS', 'UnivariateRegression', 'MultivariateRegression', 'SectionalMotif', 'ARDL', 'NeuralProphet', 'ARCH', 'Cassandra', 'PreprocessingRegression', 'NeuralForecast'], 'best': ['Cassandra', 'SectionalMotif', 'GLS', 'PytorchForecasting', 'ETS', 'FFT', 'ARDL', 'LastValueNaive', 'ARCH', 'AverageValueNaive', 'VAR', 'DatepartRegression', 'WindowRegression', 'UnivariateMotif', 'MetricMotif', 'SeasonalNaive', 'GluonTS', 'RRVAR', 'MultivariateRegression', 'GLM', 'ConstantNaive', 'SeasonalityMotif', 'FBProphet'], 'motifs': ['UnivariateMotif', 'MultivariateMotif', 'SectionalMotif', 'MotifSimulation', 'MetricMotif', 'SeasonalityMotif', 'BallTreeMultivariateMotif'], 'all_result_path': ['UnivariateMotif', 'MultivariateMotif', 'SectionalMotif', 'MetricMotif', 'SeasonalityMotif', 'Motif', 'ARCH', 'PytorchForecasting'], 'regressions': ['RollingRegression', 'WindowRegression', 'DatepartRegression', 'UnivariateRegression', 'MultivariateRegression', 'PreprocessingRegression'], 'all_pragmatic': ['Cassandra', 'NeuralForecast', 'NVAR', 'DynamicFactorMQ', 'SectionalMotif', 'DMD', 'VECM', 'GLS', 'PytorchForecasting', 'ETS', 'FFT', 'ARIMA', 'LastValueNaive', 'ARDL', 'RollingRegression', 'BallTreeMultivariateMotif', 'ARCH', 'AverageValueNaive', 'PreprocessingRegression', 'VAR', 'DatepartRegression', 'DynamicFactor', 'MotifSimulation', 'WindowRegression', 'NeuralProphet', 'LATC', 'KalmanStateSpace', 'Theta', 'UnivariateMotif', 'UnivariateRegression', 'MetricMotif', 'SeasonalNaive', 'GluonTS', 'MAR', 'MultivariateRegression', 'RRVAR', 'GLM', 'TiDE', 'ConstantNaive', 'TMF', 'SeasonalityMotif', 'MultivariateMotif', 'FBProphet', 'UnobservedComponents'], 'update_fit': ['MultivariateRegression', 'DatepartRegression', 'GluonTS', 'WindowRegression', 'Cassandra', 'PreprocessingRegression']}\n"
     ]
    }
   ],
   "source": [
    "print(model_lists)"
   ]
  },
  {
   "cell_type": "code",
   "execution_count": null,
   "metadata": {},
   "outputs": [],
   "source": []
  }
 ],
 "metadata": {
  "kernelspec": {
   "display_name": "venv",
   "language": "python",
   "name": "python3"
  },
  "language_info": {
   "codemirror_mode": {
    "name": "ipython",
    "version": 3
   },
   "file_extension": ".py",
   "mimetype": "text/x-python",
   "name": "python",
   "nbconvert_exporter": "python",
   "pygments_lexer": "ipython3",
   "version": "3.11.2"
  }
 },
 "nbformat": 4,
 "nbformat_minor": 2
}
